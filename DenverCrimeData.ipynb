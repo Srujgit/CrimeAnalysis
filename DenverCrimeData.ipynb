{
  "nbformat": 4,
  "nbformat_minor": 0,
  "metadata": {
    "colab": {
      "provenance": [],
      "mount_file_id": "https://github.com/Srujgit/CrimeAnalysis/blob/main/DenverCrimeData.ipynb",
      "authorship_tag": "ABX9TyORP46UUe97CSWxlrKgo1nH",
      "include_colab_link": true
    },
    "kernelspec": {
      "name": "python3",
      "display_name": "Python 3"
    },
    "language_info": {
      "name": "python"
    }
  },
  "cells": [
    {
      "cell_type": "markdown",
      "metadata": {
        "id": "view-in-github",
        "colab_type": "text"
      },
      "source": [
        "<a href=\"https://colab.research.google.com/github/Srujgit/CrimeAnalysis/blob/main/DenverCrimeData.ipynb\" target=\"_parent\"><img src=\"https://colab.research.google.com/assets/colab-badge.svg\" alt=\"Open In Colab\"/></a>"
      ]
    },
    {
      "cell_type": "code",
      "execution_count": 1,
      "metadata": {
        "id": "jdDfVpx3upAM"
      },
      "outputs": [],
      "source": [
        "import numpy as np\n",
        "import matplotlib\n",
        "import pandas as pd\n",
        "\n"
      ]
    },
    {
      "cell_type": "code",
      "source": [
        "import pandas as pd\n",
        "#!file -bi crime_denver.csv\n",
        "filepath=\"/content/drive/MyDrive/CrimeAnalysis/DenverCrimeData/crime.csv\"\n",
        "\n",
        "df = pd.read_csv(filepath, encoding='ISO-8859-1')\n",
        "\n",
        "# Print the DataFrame\n",
        "print(df.head())\n"
      ],
      "metadata": {
        "id": "t9OmNy0KREAB",
        "outputId": "0f238284-8617-456c-c789-31976024541a",
        "colab": {
          "base_uri": "https://localhost:8080/"
        }
      },
      "execution_count": 2,
      "outputs": [
        {
          "output_type": "stream",
          "name": "stdout",
          "text": [
            "   incident_id        offense_id  offense_code  offense_code_extension  \\\n",
            "0    202268791   202268791299900          2999                       0   \n",
            "1   2021387586  2021387586299900          2999                       0   \n",
            "2   2020641486  2020641486299900          2999                       0   \n",
            "3   2018612468  2018612468299900          2999                       0   \n",
            "4   2020293614  2020293614299900          2999                       0   \n",
            "\n",
            "           offense_type_id offense_category_id  first_occurrence_date  \\\n",
            "0  criminal-mischief-other     public-disorder   2/10/2022 2:50:00 AM   \n",
            "1  criminal-mischief-other     public-disorder    7/7/2021 9:02:00 PM   \n",
            "2  criminal-mischief-other     public-disorder  10/29/2020 1:30:00 AM   \n",
            "3  criminal-mischief-other     public-disorder    9/6/2018 5:00:00 PM   \n",
            "4  criminal-mischief-other     public-disorder    5/8/2020 5:00:00 AM   \n",
            "\n",
            "   last_occurrence_date          reported_date     incident_address  \\\n",
            "0                   NaN   2/10/2022 3:16:00 AM   1107 N SANTA FE DR   \n",
            "1                   NaN   7/8/2021 12:55:00 AM          815 16TH ST   \n",
            "2                   NaN  10/29/2020 4:31:00 AM  4745 N FEDERAL BLVD   \n",
            "3  9/6/2018 11:00:00 PM    9/7/2018 9:58:00 AM    65 S FEDERAL BLVD   \n",
            "4   5/8/2020 6:30:00 PM  5/13/2020 10:00:00 AM   12295 E ALBROOK DR   \n",
            "\n",
            "       geo_x      geo_y     geo_lon    geo_lat district_id  precinct_id  \\\n",
            "0  3140929.0  1692612.0 -104.998910  39.733957           1          123   \n",
            "1  3142470.0  1697098.0 -104.993342  39.746248           6          611   \n",
            "2  3133352.0  1710396.0 -105.025520  39.782888           1          111   \n",
            "3  3133534.0  1685797.0 -105.025330  39.715357           4          411   \n",
            "4  3184065.0  1710782.0 -104.845074  39.783082           5          521   \n",
            "\n",
            "  neighborhood_id  is_crime  is_traffic  victim_count  \n",
            "0    lincoln-park         1           0             1  \n",
            "1             cbd         1           0             1  \n",
            "2        berkeley         1           0             1  \n",
            "3          barnum         1           0             1  \n",
            "4       montbello         1           0             1  \n"
          ]
        }
      ]
    },
    {
      "cell_type": "code",
      "source": [
        "column_names = df.columns.tolist()\n",
        "print(column_names)"
      ],
      "metadata": {
        "colab": {
          "base_uri": "https://localhost:8080/"
        },
        "id": "wGAdmWCkPD8b",
        "outputId": "75a155a9-e611-4d3d-8912-f84dd6856af4"
      },
      "execution_count": 3,
      "outputs": [
        {
          "output_type": "stream",
          "name": "stdout",
          "text": [
            "['incident_id', 'offense_id', 'offense_code', 'offense_code_extension', 'offense_type_id', 'offense_category_id', 'first_occurrence_date', 'last_occurrence_date', 'reported_date', 'incident_address', 'geo_x', 'geo_y', 'geo_lon', 'geo_lat', 'district_id', 'precinct_id', 'neighborhood_id', 'is_crime', 'is_traffic', 'victim_count']\n"
          ]
        }
      ]
    },
    {
      "cell_type": "markdown",
      "source": [
        "columns_to_drop = ['offense_code','offense_type_id', 'offense_category_id', 'first_occurrence_date', 'last_occurrence_date', 'reported_date', 'geo_x', 'geo_y', 'district_id', 'is_traffic', 'victim_count']  # List of column names to drop\n",
        "df = df.drop(columns_to_drop,  axis=1)"
      ],
      "metadata": {
        "id": "iBA_gQNGPPi3"
      }
    },
    {
      "cell_type": "code",
      "source": [
        "# Assuming df is your DataFrame\n",
        "print(\"columns before dropping \\n\", df.columns)\n",
        "#columns_to_drop = ['incident_id','offense_code']  # List of column names to drop\n",
        "df = df.drop(['offense_type_id', 'offense_category_id','first_occurrence_date','last_occurrence_date', 'is_traffic','victim_count', 'incident_address', 'geo_x', 'geo_y', 'is_crime'], axis=1)\n",
        "print(\"\\ncolumns after dropping\",df.columns)"
      ],
      "metadata": {
        "colab": {
          "base_uri": "https://localhost:8080/"
        },
        "id": "dCkRSQv9OJwB",
        "outputId": "13f5ad01-a4be-41ad-c468-f2eece7f379d"
      },
      "execution_count": 4,
      "outputs": [
        {
          "output_type": "stream",
          "name": "stdout",
          "text": [
            "columns before dropping \n",
            " Index(['incident_id', 'offense_id', 'offense_code', 'offense_code_extension',\n",
            "       'offense_type_id', 'offense_category_id', 'first_occurrence_date',\n",
            "       'last_occurrence_date', 'reported_date', 'incident_address', 'geo_x',\n",
            "       'geo_y', 'geo_lon', 'geo_lat', 'district_id', 'precinct_id',\n",
            "       'neighborhood_id', 'is_crime', 'is_traffic', 'victim_count'],\n",
            "      dtype='object')\n",
            "\n",
            "columns after dropping Index(['incident_id', 'offense_id', 'offense_code', 'offense_code_extension',\n",
            "       'reported_date', 'geo_lon', 'geo_lat', 'district_id', 'precinct_id',\n",
            "       'neighborhood_id'],\n",
            "      dtype='object')\n"
          ]
        }
      ]
    },
    {
      "cell_type": "code",
      "source": [
        "# fin_column_names= df.columns.tolist()\n",
        "# print(fin_column_names)\n",
        "# print(df.columns)"
      ],
      "metadata": {
        "id": "hrT5hIiihA2D"
      },
      "execution_count": 5,
      "outputs": []
    },
    {
      "cell_type": "code",
      "source": [
        "# Assuming df is your DataFrame and 'column_name' is the name of the column\n",
        "unique_values = df['neighborhood_id'].unique()\n",
        "print(len(unique_values))\n"
      ],
      "metadata": {
        "colab": {
          "base_uri": "https://localhost:8080/"
        },
        "id": "Q3w2RcXEd7Rb",
        "outputId": "99a15624-8903-44e1-bb1b-9c5819d42ac5"
      },
      "execution_count": 6,
      "outputs": [
        {
          "output_type": "stream",
          "name": "stdout",
          "text": [
            "79\n"
          ]
        }
      ]
    },
    {
      "cell_type": "markdown",
      "source": [
        "It can be seen that neighborhood_id has 79 unique values. In the next step we will be encoding it to numeric values"
      ],
      "metadata": {
        "id": "V9y1kC3WiVYU"
      }
    },
    {
      "cell_type": "code",
      "source": [
        "from sklearn.preprocessing import LabelEncoder\n",
        "\n",
        "# Assuming df is your DataFrame and 'column_name' is the name of the column\n",
        "label_encoder = LabelEncoder()\n",
        "encoded_values = label_encoder.fit_transform(df['neighborhood_id'])\n",
        "\n",
        "encoded_df = pd.DataFrame({\n",
        "    'Original': df['neighborhood_id'],\n",
        "    'Encoded': encoded_values\n",
        "})\n",
        "\n",
        "# Drop duplicate rows to avoid repeating entries for the same string\n",
        "encoded_df.drop_duplicates(inplace=True)\n",
        "\n",
        "# Sort the DataFrame by the encoded values for better readability\n",
        "encoded_df.sort_values(by='Encoded', inplace=True)\n",
        "\n",
        "# Display the DataFrame\n",
        "print(encoded_df)\n"
      ],
      "metadata": {
        "colab": {
          "base_uri": "https://localhost:8080/"
        },
        "id": "ZRRgxHwnfR3F",
        "outputId": "0f6d50a2-ab73-403c-e687-3baedb652989"
      },
      "execution_count": 7,
      "outputs": [
        {
          "output_type": "stream",
          "name": "stdout",
          "text": [
            "           Original  Encoded\n",
            "18      athmar-park        0\n",
            "324         auraria        1\n",
            "40            baker        2\n",
            "3            barnum        3\n",
            "10      barnum-west        4\n",
            "...             ...      ...\n",
            "52    west-highland       74\n",
            "33         westwood       75\n",
            "9          whittier       76\n",
            "351         windsor       77\n",
            "1296            NaN       78\n",
            "\n",
            "[79 rows x 2 columns]\n"
          ]
        }
      ]
    },
    {
      "cell_type": "code",
      "source": [
        "df['neighborhood_id'] = encoded_values\n",
        "df.head()"
      ],
      "metadata": {
        "colab": {
          "base_uri": "https://localhost:8080/",
          "height": 206
        },
        "id": "nDM8UN4Sfcul",
        "outputId": "2cb04f9d-806a-4b6a-b903-6088beeb98b7"
      },
      "execution_count": 8,
      "outputs": [
        {
          "output_type": "execute_result",
          "data": {
            "text/plain": [
              "   incident_id        offense_id  offense_code  offense_code_extension  \\\n",
              "0    202268791   202268791299900          2999                       0   \n",
              "1   2021387586  2021387586299900          2999                       0   \n",
              "2   2020641486  2020641486299900          2999                       0   \n",
              "3   2018612468  2018612468299900          2999                       0   \n",
              "4   2020293614  2020293614299900          2999                       0   \n",
              "\n",
              "           reported_date     geo_lon    geo_lat district_id  precinct_id  \\\n",
              "0   2/10/2022 3:16:00 AM -104.998910  39.733957           1          123   \n",
              "1   7/8/2021 12:55:00 AM -104.993342  39.746248           6          611   \n",
              "2  10/29/2020 4:31:00 AM -105.025520  39.782888           1          111   \n",
              "3    9/7/2018 9:58:00 AM -105.025330  39.715357           4          411   \n",
              "4  5/13/2020 10:00:00 AM -104.845074  39.783082           5          521   \n",
              "\n",
              "   neighborhood_id  \n",
              "0               41  \n",
              "1                9  \n",
              "2                7  \n",
              "3                3  \n",
              "4               45  "
            ],
            "text/html": [
              "\n",
              "  <div id=\"df-9944b06e-c9f7-4203-be33-5f875ffb1a0f\" class=\"colab-df-container\">\n",
              "    <div>\n",
              "<style scoped>\n",
              "    .dataframe tbody tr th:only-of-type {\n",
              "        vertical-align: middle;\n",
              "    }\n",
              "\n",
              "    .dataframe tbody tr th {\n",
              "        vertical-align: top;\n",
              "    }\n",
              "\n",
              "    .dataframe thead th {\n",
              "        text-align: right;\n",
              "    }\n",
              "</style>\n",
              "<table border=\"1\" class=\"dataframe\">\n",
              "  <thead>\n",
              "    <tr style=\"text-align: right;\">\n",
              "      <th></th>\n",
              "      <th>incident_id</th>\n",
              "      <th>offense_id</th>\n",
              "      <th>offense_code</th>\n",
              "      <th>offense_code_extension</th>\n",
              "      <th>reported_date</th>\n",
              "      <th>geo_lon</th>\n",
              "      <th>geo_lat</th>\n",
              "      <th>district_id</th>\n",
              "      <th>precinct_id</th>\n",
              "      <th>neighborhood_id</th>\n",
              "    </tr>\n",
              "  </thead>\n",
              "  <tbody>\n",
              "    <tr>\n",
              "      <th>0</th>\n",
              "      <td>202268791</td>\n",
              "      <td>202268791299900</td>\n",
              "      <td>2999</td>\n",
              "      <td>0</td>\n",
              "      <td>2/10/2022 3:16:00 AM</td>\n",
              "      <td>-104.998910</td>\n",
              "      <td>39.733957</td>\n",
              "      <td>1</td>\n",
              "      <td>123</td>\n",
              "      <td>41</td>\n",
              "    </tr>\n",
              "    <tr>\n",
              "      <th>1</th>\n",
              "      <td>2021387586</td>\n",
              "      <td>2021387586299900</td>\n",
              "      <td>2999</td>\n",
              "      <td>0</td>\n",
              "      <td>7/8/2021 12:55:00 AM</td>\n",
              "      <td>-104.993342</td>\n",
              "      <td>39.746248</td>\n",
              "      <td>6</td>\n",
              "      <td>611</td>\n",
              "      <td>9</td>\n",
              "    </tr>\n",
              "    <tr>\n",
              "      <th>2</th>\n",
              "      <td>2020641486</td>\n",
              "      <td>2020641486299900</td>\n",
              "      <td>2999</td>\n",
              "      <td>0</td>\n",
              "      <td>10/29/2020 4:31:00 AM</td>\n",
              "      <td>-105.025520</td>\n",
              "      <td>39.782888</td>\n",
              "      <td>1</td>\n",
              "      <td>111</td>\n",
              "      <td>7</td>\n",
              "    </tr>\n",
              "    <tr>\n",
              "      <th>3</th>\n",
              "      <td>2018612468</td>\n",
              "      <td>2018612468299900</td>\n",
              "      <td>2999</td>\n",
              "      <td>0</td>\n",
              "      <td>9/7/2018 9:58:00 AM</td>\n",
              "      <td>-105.025330</td>\n",
              "      <td>39.715357</td>\n",
              "      <td>4</td>\n",
              "      <td>411</td>\n",
              "      <td>3</td>\n",
              "    </tr>\n",
              "    <tr>\n",
              "      <th>4</th>\n",
              "      <td>2020293614</td>\n",
              "      <td>2020293614299900</td>\n",
              "      <td>2999</td>\n",
              "      <td>0</td>\n",
              "      <td>5/13/2020 10:00:00 AM</td>\n",
              "      <td>-104.845074</td>\n",
              "      <td>39.783082</td>\n",
              "      <td>5</td>\n",
              "      <td>521</td>\n",
              "      <td>45</td>\n",
              "    </tr>\n",
              "  </tbody>\n",
              "</table>\n",
              "</div>\n",
              "    <div class=\"colab-df-buttons\">\n",
              "\n",
              "  <div class=\"colab-df-container\">\n",
              "    <button class=\"colab-df-convert\" onclick=\"convertToInteractive('df-9944b06e-c9f7-4203-be33-5f875ffb1a0f')\"\n",
              "            title=\"Convert this dataframe to an interactive table.\"\n",
              "            style=\"display:none;\">\n",
              "\n",
              "  <svg xmlns=\"http://www.w3.org/2000/svg\" height=\"24px\" viewBox=\"0 -960 960 960\">\n",
              "    <path d=\"M120-120v-720h720v720H120Zm60-500h600v-160H180v160Zm220 220h160v-160H400v160Zm0 220h160v-160H400v160ZM180-400h160v-160H180v160Zm440 0h160v-160H620v160ZM180-180h160v-160H180v160Zm440 0h160v-160H620v160Z\"/>\n",
              "  </svg>\n",
              "    </button>\n",
              "\n",
              "  <style>\n",
              "    .colab-df-container {\n",
              "      display:flex;\n",
              "      gap: 12px;\n",
              "    }\n",
              "\n",
              "    .colab-df-convert {\n",
              "      background-color: #E8F0FE;\n",
              "      border: none;\n",
              "      border-radius: 50%;\n",
              "      cursor: pointer;\n",
              "      display: none;\n",
              "      fill: #1967D2;\n",
              "      height: 32px;\n",
              "      padding: 0 0 0 0;\n",
              "      width: 32px;\n",
              "    }\n",
              "\n",
              "    .colab-df-convert:hover {\n",
              "      background-color: #E2EBFA;\n",
              "      box-shadow: 0px 1px 2px rgba(60, 64, 67, 0.3), 0px 1px 3px 1px rgba(60, 64, 67, 0.15);\n",
              "      fill: #174EA6;\n",
              "    }\n",
              "\n",
              "    .colab-df-buttons div {\n",
              "      margin-bottom: 4px;\n",
              "    }\n",
              "\n",
              "    [theme=dark] .colab-df-convert {\n",
              "      background-color: #3B4455;\n",
              "      fill: #D2E3FC;\n",
              "    }\n",
              "\n",
              "    [theme=dark] .colab-df-convert:hover {\n",
              "      background-color: #434B5C;\n",
              "      box-shadow: 0px 1px 3px 1px rgba(0, 0, 0, 0.15);\n",
              "      filter: drop-shadow(0px 1px 2px rgba(0, 0, 0, 0.3));\n",
              "      fill: #FFFFFF;\n",
              "    }\n",
              "  </style>\n",
              "\n",
              "    <script>\n",
              "      const buttonEl =\n",
              "        document.querySelector('#df-9944b06e-c9f7-4203-be33-5f875ffb1a0f button.colab-df-convert');\n",
              "      buttonEl.style.display =\n",
              "        google.colab.kernel.accessAllowed ? 'block' : 'none';\n",
              "\n",
              "      async function convertToInteractive(key) {\n",
              "        const element = document.querySelector('#df-9944b06e-c9f7-4203-be33-5f875ffb1a0f');\n",
              "        const dataTable =\n",
              "          await google.colab.kernel.invokeFunction('convertToInteractive',\n",
              "                                                    [key], {});\n",
              "        if (!dataTable) return;\n",
              "\n",
              "        const docLinkHtml = 'Like what you see? Visit the ' +\n",
              "          '<a target=\"_blank\" href=https://colab.research.google.com/notebooks/data_table.ipynb>data table notebook</a>'\n",
              "          + ' to learn more about interactive tables.';\n",
              "        element.innerHTML = '';\n",
              "        dataTable['output_type'] = 'display_data';\n",
              "        await google.colab.output.renderOutput(dataTable, element);\n",
              "        const docLink = document.createElement('div');\n",
              "        docLink.innerHTML = docLinkHtml;\n",
              "        element.appendChild(docLink);\n",
              "      }\n",
              "    </script>\n",
              "  </div>\n",
              "\n",
              "\n",
              "<div id=\"df-9a0409e3-325d-4fdf-84c3-8cafc1bc07e0\">\n",
              "  <button class=\"colab-df-quickchart\" onclick=\"quickchart('df-9a0409e3-325d-4fdf-84c3-8cafc1bc07e0')\"\n",
              "            title=\"Suggest charts\"\n",
              "            style=\"display:none;\">\n",
              "\n",
              "<svg xmlns=\"http://www.w3.org/2000/svg\" height=\"24px\"viewBox=\"0 0 24 24\"\n",
              "     width=\"24px\">\n",
              "    <g>\n",
              "        <path d=\"M19 3H5c-1.1 0-2 .9-2 2v14c0 1.1.9 2 2 2h14c1.1 0 2-.9 2-2V5c0-1.1-.9-2-2-2zM9 17H7v-7h2v7zm4 0h-2V7h2v10zm4 0h-2v-4h2v4z\"/>\n",
              "    </g>\n",
              "</svg>\n",
              "  </button>\n",
              "\n",
              "<style>\n",
              "  .colab-df-quickchart {\n",
              "      --bg-color: #E8F0FE;\n",
              "      --fill-color: #1967D2;\n",
              "      --hover-bg-color: #E2EBFA;\n",
              "      --hover-fill-color: #174EA6;\n",
              "      --disabled-fill-color: #AAA;\n",
              "      --disabled-bg-color: #DDD;\n",
              "  }\n",
              "\n",
              "  [theme=dark] .colab-df-quickchart {\n",
              "      --bg-color: #3B4455;\n",
              "      --fill-color: #D2E3FC;\n",
              "      --hover-bg-color: #434B5C;\n",
              "      --hover-fill-color: #FFFFFF;\n",
              "      --disabled-bg-color: #3B4455;\n",
              "      --disabled-fill-color: #666;\n",
              "  }\n",
              "\n",
              "  .colab-df-quickchart {\n",
              "    background-color: var(--bg-color);\n",
              "    border: none;\n",
              "    border-radius: 50%;\n",
              "    cursor: pointer;\n",
              "    display: none;\n",
              "    fill: var(--fill-color);\n",
              "    height: 32px;\n",
              "    padding: 0;\n",
              "    width: 32px;\n",
              "  }\n",
              "\n",
              "  .colab-df-quickchart:hover {\n",
              "    background-color: var(--hover-bg-color);\n",
              "    box-shadow: 0 1px 2px rgba(60, 64, 67, 0.3), 0 1px 3px 1px rgba(60, 64, 67, 0.15);\n",
              "    fill: var(--button-hover-fill-color);\n",
              "  }\n",
              "\n",
              "  .colab-df-quickchart-complete:disabled,\n",
              "  .colab-df-quickchart-complete:disabled:hover {\n",
              "    background-color: var(--disabled-bg-color);\n",
              "    fill: var(--disabled-fill-color);\n",
              "    box-shadow: none;\n",
              "  }\n",
              "\n",
              "  .colab-df-spinner {\n",
              "    border: 2px solid var(--fill-color);\n",
              "    border-color: transparent;\n",
              "    border-bottom-color: var(--fill-color);\n",
              "    animation:\n",
              "      spin 1s steps(1) infinite;\n",
              "  }\n",
              "\n",
              "  @keyframes spin {\n",
              "    0% {\n",
              "      border-color: transparent;\n",
              "      border-bottom-color: var(--fill-color);\n",
              "      border-left-color: var(--fill-color);\n",
              "    }\n",
              "    20% {\n",
              "      border-color: transparent;\n",
              "      border-left-color: var(--fill-color);\n",
              "      border-top-color: var(--fill-color);\n",
              "    }\n",
              "    30% {\n",
              "      border-color: transparent;\n",
              "      border-left-color: var(--fill-color);\n",
              "      border-top-color: var(--fill-color);\n",
              "      border-right-color: var(--fill-color);\n",
              "    }\n",
              "    40% {\n",
              "      border-color: transparent;\n",
              "      border-right-color: var(--fill-color);\n",
              "      border-top-color: var(--fill-color);\n",
              "    }\n",
              "    60% {\n",
              "      border-color: transparent;\n",
              "      border-right-color: var(--fill-color);\n",
              "    }\n",
              "    80% {\n",
              "      border-color: transparent;\n",
              "      border-right-color: var(--fill-color);\n",
              "      border-bottom-color: var(--fill-color);\n",
              "    }\n",
              "    90% {\n",
              "      border-color: transparent;\n",
              "      border-bottom-color: var(--fill-color);\n",
              "    }\n",
              "  }\n",
              "</style>\n",
              "\n",
              "  <script>\n",
              "    async function quickchart(key) {\n",
              "      const quickchartButtonEl =\n",
              "        document.querySelector('#' + key + ' button');\n",
              "      quickchartButtonEl.disabled = true;  // To prevent multiple clicks.\n",
              "      quickchartButtonEl.classList.add('colab-df-spinner');\n",
              "      try {\n",
              "        const charts = await google.colab.kernel.invokeFunction(\n",
              "            'suggestCharts', [key], {});\n",
              "      } catch (error) {\n",
              "        console.error('Error during call to suggestCharts:', error);\n",
              "      }\n",
              "      quickchartButtonEl.classList.remove('colab-df-spinner');\n",
              "      quickchartButtonEl.classList.add('colab-df-quickchart-complete');\n",
              "    }\n",
              "    (() => {\n",
              "      let quickchartButtonEl =\n",
              "        document.querySelector('#df-9a0409e3-325d-4fdf-84c3-8cafc1bc07e0 button');\n",
              "      quickchartButtonEl.style.display =\n",
              "        google.colab.kernel.accessAllowed ? 'block' : 'none';\n",
              "    })();\n",
              "  </script>\n",
              "</div>\n",
              "\n",
              "    </div>\n",
              "  </div>\n"
            ],
            "application/vnd.google.colaboratory.intrinsic+json": {
              "type": "dataframe",
              "variable_name": "df"
            }
          },
          "metadata": {},
          "execution_count": 8
        }
      ]
    },
    {
      "cell_type": "markdown",
      "source": [
        "Converting reported date from date time format to a numerical value"
      ],
      "metadata": {
        "id": "7MZJrg58JzIv"
      }
    },
    {
      "cell_type": "code",
      "source": [
        "import pandas as pd\n",
        "\n",
        "# Assuming your dataset is stored in a Pandas DataFrame named 'df'\n",
        "# and the time column is named 'time_column'\n",
        "\n",
        "# Convert the time column to a numerical format\n",
        "df['time_numerical'] = pd.to_datetime(df['reported_date'], format=\"%m/%d/%Y %I:%M:%S %p\").astype(int) // 10 ** 9\n",
        "\n",
        "# Replace the original time column with the numerical format\n",
        "df['reported_date'] = df['time_numerical']\n",
        "\n",
        "# Drop the temporary 'time_numerical' column if needed\n",
        "df = df.drop('time_numerical', axis=1)\n",
        "\n",
        "# Display the first few rows of the DataFrame\n",
        "print(df.head())"
      ],
      "metadata": {
        "colab": {
          "base_uri": "https://localhost:8080/"
        },
        "id": "tap_QZEU54c8",
        "outputId": "f89c2bc6-9330-4fc7-c0f8-1a15441a3854"
      },
      "execution_count": 9,
      "outputs": [
        {
          "output_type": "stream",
          "name": "stdout",
          "text": [
            "   incident_id        offense_id  offense_code  offense_code_extension  \\\n",
            "0    202268791   202268791299900          2999                       0   \n",
            "1   2021387586  2021387586299900          2999                       0   \n",
            "2   2020641486  2020641486299900          2999                       0   \n",
            "3   2018612468  2018612468299900          2999                       0   \n",
            "4   2020293614  2020293614299900          2999                       0   \n",
            "\n",
            "   reported_date     geo_lon    geo_lat district_id  precinct_id  \\\n",
            "0     1644462960 -104.998910  39.733957           1          123   \n",
            "1     1625705700 -104.993342  39.746248           6          611   \n",
            "2     1603945860 -105.025520  39.782888           1          111   \n",
            "3     1536314280 -105.025330  39.715357           4          411   \n",
            "4     1589364000 -104.845074  39.783082           5          521   \n",
            "\n",
            "   neighborhood_id  \n",
            "0               41  \n",
            "1                9  \n",
            "2                7  \n",
            "3                3  \n",
            "4               45  \n"
          ]
        }
      ]
    },
    {
      "cell_type": "markdown",
      "source": [
        "Following shows that there is no NaN in the reported_date column and we can proceed further"
      ],
      "metadata": {
        "id": "n_S-I_F6KMBK"
      }
    },
    {
      "cell_type": "code",
      "source": [
        "df[\"reported_date\"].isna().sum()"
      ],
      "metadata": {
        "colab": {
          "base_uri": "https://localhost:8080/"
        },
        "id": "SO_bMMaD6XgM",
        "outputId": "dd478e93-e8cb-44f7-e32e-2ddcadfbd200"
      },
      "execution_count": 10,
      "outputs": [
        {
          "output_type": "execute_result",
          "data": {
            "text/plain": [
              "0"
            ]
          },
          "metadata": {},
          "execution_count": 10
        }
      ]
    },
    {
      "cell_type": "markdown",
      "source": [
        "Converting all non-numeric values into NaNs"
      ],
      "metadata": {
        "id": "IAkG1IXZKXqx"
      }
    },
    {
      "cell_type": "markdown",
      "source": [
        "It can be seen that geo_lon, geo_lat and district_id have multiple missing values\n"
      ],
      "metadata": {
        "id": "7mzhGhzmiHm-"
      }
    },
    {
      "cell_type": "code",
      "source": [
        "# Assuming df is your DataFrame and 'column_name' is the name of the column\n",
        "df.replace('', pd.NA, inplace=True)\n",
        "import pandas as pd\n",
        "import numpy as np\n",
        "\n",
        "print(\"number of missing values in each column before imputation\")\n",
        "\n",
        "# Assuming your dataframe is named 'df'\n",
        "for column in df.columns:\n",
        "    df[column] = pd.to_numeric(df[column], errors='coerce')\n",
        "    print(df[column].isna().sum(), column)\n"
      ],
      "metadata": {
        "colab": {
          "base_uri": "https://localhost:8080/"
        },
        "id": "AIOYZJzsf_LF",
        "outputId": "07371b79-762a-4870-c49f-727f977eb1e4"
      },
      "execution_count": 11,
      "outputs": [
        {
          "output_type": "stream",
          "name": "stdout",
          "text": [
            "number of missing values in each column before imputation\n",
            "0 incident_id\n",
            "0 offense_id\n",
            "0 offense_code\n",
            "0 offense_code_extension\n",
            "0 reported_date\n",
            "15769 geo_lon\n",
            "15769 geo_lat\n",
            "525 district_id\n",
            "0 precinct_id\n",
            "0 neighborhood_id\n"
          ]
        }
      ]
    },
    {
      "cell_type": "code",
      "source": [
        "df['geo_lat'] = df['geo_lat'].fillna(df['geo_lat'].median())\n",
        "df['geo_lon'] = df['geo_lon'].fillna(df['geo_lon'].median())\n",
        "\n",
        "print(\"number of missing values in each column\")\n",
        "\n",
        "for column in df.columns:\n",
        "    print(df[column].isna().sum(), column)\n"
      ],
      "metadata": {
        "colab": {
          "base_uri": "https://localhost:8080/"
        },
        "id": "bwN0yqYaiRbw",
        "outputId": "3ac65b30-d5f5-4401-f0a8-0bc860895302"
      },
      "execution_count": 12,
      "outputs": [
        {
          "output_type": "stream",
          "name": "stdout",
          "text": [
            "number of missing values in each column\n",
            "0 incident_id\n",
            "0 offense_id\n",
            "0 offense_code\n",
            "0 offense_code_extension\n",
            "0 reported_date\n",
            "0 geo_lon\n",
            "0 geo_lat\n",
            "525 district_id\n",
            "0 precinct_id\n",
            "0 neighborhood_id\n"
          ]
        }
      ]
    },
    {
      "cell_type": "markdown",
      "source": [
        "Imputing district values"
      ],
      "metadata": {
        "id": "Jh9f_x09HEZr"
      }
    },
    {
      "cell_type": "code",
      "source": [
        "import pandas as pd\n",
        "from sklearn.experimental import enable_iterative_imputer\n",
        "from sklearn.impute import IterativeImputer\n",
        "from sklearn.linear_model import LinearRegression\n",
        "\n",
        "# Create the imputer and impute the missing district_id values\n",
        "imputer = IterativeImputer(estimator=LinearRegression(), random_state=42, missing_values=np.nan)\n",
        "df['district_id'] = imputer.fit_transform(df[['district_id']])\n",
        "\n",
        "for column in df.columns:\n",
        "    print(df[column].isna().sum(), column)\n"
      ],
      "metadata": {
        "colab": {
          "base_uri": "https://localhost:8080/"
        },
        "id": "w3yO93NA7wma",
        "outputId": "88e28017-db39-4a15-dcc8-c2dadf007d44"
      },
      "execution_count": 13,
      "outputs": [
        {
          "output_type": "stream",
          "name": "stdout",
          "text": [
            "0 incident_id\n",
            "0 offense_id\n",
            "0 offense_code\n",
            "0 offense_code_extension\n",
            "0 reported_date\n",
            "0 geo_lon\n",
            "0 geo_lat\n",
            "0 district_id\n",
            "0 precinct_id\n",
            "0 neighborhood_id\n"
          ]
        }
      ]
    },
    {
      "cell_type": "markdown",
      "source": [
        "Performing Z_score normalization on the \"reported_date\" column"
      ],
      "metadata": {
        "id": "bO-JQy1EJJGv"
      }
    },
    {
      "cell_type": "code",
      "source": [
        "import pandas as pd\n",
        "\n",
        "# Assuming df is your DataFrame and 'reported_time' is the column you want to normalize\n",
        "df['reported_date'] = (df['reported_date'] - df['reported_date'].mean()) / df['reported_date'].std()\n",
        "\n",
        "print(df.head())"
      ],
      "metadata": {
        "id": "74FE9aEJVe9y",
        "colab": {
          "base_uri": "https://localhost:8080/"
        },
        "outputId": "526bda0a-aab2-4fc0-9e3b-ac40f20c7736"
      },
      "execution_count": 14,
      "outputs": [
        {
          "output_type": "stream",
          "name": "stdout",
          "text": [
            "   incident_id        offense_id  offense_code  offense_code_extension  \\\n",
            "0    202268791   202268791299900          2999                       0   \n",
            "1   2021387586  2021387586299900          2999                       0   \n",
            "2   2020641486  2020641486299900          2999                       0   \n",
            "3   2018612468  2018612468299900          2999                       0   \n",
            "4   2020293614  2020293614299900          2999                       0   \n",
            "\n",
            "   reported_date     geo_lon    geo_lat  district_id  precinct_id  \\\n",
            "0       0.615324 -104.998910  39.733957          1.0          123   \n",
            "1       0.254030 -104.993342  39.746248          6.0          611   \n",
            "2      -0.165097 -105.025520  39.782888          1.0          111   \n",
            "3      -1.467785 -105.025330  39.715357          4.0          411   \n",
            "4      -0.445966 -104.845074  39.783082          5.0          521   \n",
            "\n",
            "   neighborhood_id  \n",
            "0               41  \n",
            "1                9  \n",
            "2                7  \n",
            "3                3  \n",
            "4               45  \n"
          ]
        }
      ]
    },
    {
      "cell_type": "markdown",
      "source": [
        "#Training the model"
      ],
      "metadata": {
        "id": "bxQmsOnWK-E6"
      }
    },
    {
      "cell_type": "code",
      "source": [
        "from sklearn.tree import DecisionTreeRegressor\n",
        "from sklearn.svm import SVR\n",
        "from sklearn.metrics import mean_squared_error as mse\n",
        "from sklearn.model_selection import train_test_split"
      ],
      "metadata": {
        "id": "g0RPuPZ9KzA2"
      },
      "execution_count": 15,
      "outputs": []
    },
    {
      "cell_type": "code",
      "source": [
        "X = df[['offense_code', 'offense_code_extension', 'reported_date', 'geo_lon', 'geo_lat', 'district_id', 'neighborhood_id']]\n",
        "y = df['precinct_id']\n",
        "\n",
        "X_train, X_test, y_train, y_test = train_test_split(X, y, test_size = 0.2, shuffle = True)\n",
        "X_train, X_val, y_train, y_val = train_test_split(X_train, y_train, test_size = 0.1, shuffle = True)\n",
        "print(X_train,y_train)"
      ],
      "metadata": {
        "id": "gePLuQbLwAZs",
        "colab": {
          "base_uri": "https://localhost:8080/"
        },
        "outputId": "80627889-2141-4292-ff09-edc4c7fd2a6c"
      },
      "execution_count": 16,
      "outputs": [
        {
          "output_type": "stream",
          "name": "stdout",
          "text": [
            "        offense_code  offense_code_extension  reported_date     geo_lon  \\\n",
            "196040          2305                       0       0.805377 -104.979096   \n",
            "29951           2999                       1       0.446215 -104.997069   \n",
            "154778          2204                       0      -0.540654 -104.981523   \n",
            "158227          2204                       0      -1.631595 -104.909584   \n",
            "161941          2205                       0      -0.284159 -105.045510   \n",
            "...              ...                     ...            ...         ...   \n",
            "282805          2404                       0       0.102780 -104.773175   \n",
            "84950           5707                       0      -1.328605 -104.989093   \n",
            "51068           3612                       0      -0.818668 -104.992313   \n",
            "221221          2305                       0      -0.730368 -104.896987   \n",
            "354393          5213                       0       1.377435 -105.030745   \n",
            "\n",
            "          geo_lat  district_id  neighborhood_id  \n",
            "196040  39.724597          3.0               59  \n",
            "29951   39.745682          6.0                9  \n",
            "154778  39.746013          6.0               47  \n",
            "158227  39.696409          3.0               71  \n",
            "161941  39.729666          1.0               67  \n",
            "...           ...          ...              ...  \n",
            "282805  39.821396          5.0               23  \n",
            "84950   39.741722          6.0                9  \n",
            "51068   39.737154          6.0               16  \n",
            "221221  39.655797          3.0               32  \n",
            "354393  39.705070          4.0               75  \n",
            "\n",
            "[278542 rows x 7 columns] 196040    311\n",
            "29951     611\n",
            "154778    621\n",
            "158227    322\n",
            "161941    122\n",
            "         ... \n",
            "282805    522\n",
            "84950     611\n",
            "51068     611\n",
            "221221    323\n",
            "354393    412\n",
            "Name: precinct_id, Length: 278542, dtype: int64\n"
          ]
        }
      ]
    },
    {
      "cell_type": "markdown",
      "source": [
        "Below model works well but doesnt tabke paramters idk how"
      ],
      "metadata": {
        "id": "UdbqQkAxVHld"
      }
    },
    {
      "cell_type": "markdown",
      "source": [
        "##performing gridsearch to find least error and best parameters\n"
      ],
      "metadata": {
        "id": "xJmdZ7dHc-q7"
      }
    },
    {
      "cell_type": "markdown",
      "source": [
        "#Performing grid search for Decision tree regressor\n",
        "\n",
        "---\n",
        "\n"
      ],
      "metadata": {
        "id": "VEmbTZ8aTv29"
      }
    },
    {
      "cell_type": "code",
      "source": [
        "from sklearn.model_selection import GridSearchCV\n",
        "from sklearn.tree import DecisionTreeRegressor\n",
        "from sklearn.ensemble import RandomForestRegressor\n",
        "from sklearn.linear_model import LinearRegression\n",
        "from sklearn.metrics import mean_squared_error as mse\n",
        "from sklearn.metrics import mean_absolute_error as mae\n",
        "\n",
        "def perform_grid_search(model_class, param_grid, scoring, X_train, y_train, X_val, y_val):\n",
        "    # Create an instance of the model\n",
        "    model = model_class()\n",
        "\n",
        "    # Instantiate GridSearchCV with the specified scoring parameter\n",
        "    grid_search = GridSearchCV(estimator=model, param_grid=param_grid, scoring=scoring, cv=5, n_jobs=-1)\n",
        "\n",
        "    # Fit GridSearchCV\n",
        "    grid_search.fit(X_train, y_train)\n",
        "\n",
        "    # Print the best parameters and the corresponding error values\n",
        "    print(f\"Best parameters found for {model_class.__name__} with scoring '{scoring}': \", grid_search.best_params_)\n",
        "    print(f\"Best score found for {model_class.__name__} with scoring '{scoring}': \", -grid_search.best_score_) # Since 'neg_mean_absolute_error' is used, we negate the score to get the MAE\n",
        "    print(f\"MAE on validation set for {model_class.__name__} : \", mae(y_val, grid_search.predict(X_val)))\n",
        "    print(f\"MSE on validation set for {model_class.__name__} : \", mse(y_val, grid_search.predict(X_val)))\n",
        "    print(\"\\n\")\n",
        "\n",
        "# Define the parameter grid for each model\n",
        "param_grid_dt = {\n",
        "    'max_depth': [10, 20, 80],\n",
        "    'min_samples_split': [2, 5, 10],\n",
        "    'min_samples_leaf': [1, 2, 5],\n",
        "    'max_features': [6, 3, 7]\n",
        "}\n",
        "\n",
        "perform_grid_search(DecisionTreeRegressor, param_grid_dt, 'neg_mean_absolute_error', X_train, y_train, X_val, y_val)\n",
        "\n",
        "perform_grid_search(DecisionTreeRegressor, param_grid_dt, 'neg_mean_squared_error', X_train, y_train, X_val, y_val)\n",
        "\n"
      ],
      "metadata": {
        "id": "9kFRFGkxq_rO"
      },
      "execution_count": null,
      "outputs": []
    },
    {
      "cell_type": "markdown",
      "source": [
        "#Changing parameters manually (if required)"
      ],
      "metadata": {
        "id": "1n5Sd13PQsVj"
      }
    },
    {
      "cell_type": "code",
      "source": [
        "from sklearn.tree import DecisionTreeRegressor\n",
        "from sklearn.metrics import r2_score as r2\n",
        "from sklearn.metrics import mean_squared_error as mse\n",
        "from sklearn.metrics import mean_absolute_error as mae\n",
        "\n",
        "dtr = DecisionTreeRegressor(max_depth = 20, min_samples_split= 10, min_samples_leaf = 10, max_features = 7)\n",
        "dtr_model = dtr.fit(X_train, y_train)"
      ],
      "metadata": {
        "id": "lKWYm_PLQiwD"
      },
      "execution_count": null,
      "outputs": []
    },
    {
      "cell_type": "code",
      "source": [
        "dtr_val_pred = dtr.predict(X_val)\n",
        "print(\"Decision Tree Regression mean squared error: \", mse(y_val, dtr_val_pred))\n",
        "#print(\"Decision Tree Regression mean absolute error: \", mae(y_val, dtr_val_pred))\n",
        "print(\"Decision Tree Regression r2_score error: \", r2(y_val, dtr_val_pred))"
      ],
      "metadata": {
        "id": "g0Dstbf9Tsbo"
      },
      "execution_count": null,
      "outputs": []
    },
    {
      "cell_type": "code",
      "source": [
        "dtr_test_pred = dtr.predict(X_test)\n",
        "print(\"Decision Tree Regression mean squared error: \", mse(y_test, dtr_test_pred))\n",
        "#print(\"Decision Tree Regression mean absolute error: \", mae(y_test, dtr_test_pred))\n",
        "print(\"Decision Tree Regression r2_score error: \", r2(y_test, dtr_test_pred))"
      ],
      "metadata": {
        "id": "GuLtqouQThj9"
      },
      "execution_count": null,
      "outputs": []
    },
    {
      "cell_type": "markdown",
      "source": [
        "Decision Tree Hyperparameter Tuning\n",
        "#Decision Tree Hyperparameter Tuning\n",
        "\n",
        "|max_depth||min_samples_split||min_samples_leaf||max_features||MSE||r^2|\n",
        "|:--------------:||:--------------------:||:-----------------:||:--------------:||:-:||:-:|\n",
        "|Default||Default||Default||Default||0.20679321486268173||0.999993875327513|\n",
        "|20||10||10||7||0.2054593543089639||0.9999939148329632|\n",
        "|50||4||5||7||0.19800853591301878||0.9999941355066563|\n",
        "|100||5||5||8||0.19461534489730778||0.999991808690451|\n",
        "\n"
      ],
      "metadata": {
        "id": "n9pk7nlBFcI_"
      }
    },
    {
      "cell_type": "markdown",
      "source": [],
      "metadata": {
        "id": "HgJnKx3XC3w-"
      }
    }
  ]
}