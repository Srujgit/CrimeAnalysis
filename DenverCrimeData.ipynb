{
  "nbformat": 4,
  "nbformat_minor": 0,
  "metadata": {
    "colab": {
      "provenance": [],
      "mount_file_id": "https://github.com/Srujgit/CrimeAnalysis/blob/main/DenverCrimeData.ipynb",
      "authorship_tag": "ABX9TyOHmTLLGioOXYnittu5u38R",
      "include_colab_link": true
    },
    "kernelspec": {
      "name": "python3",
      "display_name": "Python 3"
    },
    "language_info": {
      "name": "python"
    }
  },
  "cells": [
    {
      "cell_type": "markdown",
      "metadata": {
        "id": "view-in-github",
        "colab_type": "text"
      },
      "source": [
        "<a href=\"https://colab.research.google.com/github/Srujgit/CrimeAnalysis/blob/main/DenverCrimeData.ipynb\" target=\"_parent\"><img src=\"https://colab.research.google.com/assets/colab-badge.svg\" alt=\"Open In Colab\"/></a>"
      ]
    },
    {
      "cell_type": "code",
      "execution_count": 1,
      "metadata": {
        "id": "jdDfVpx3upAM"
      },
      "outputs": [],
      "source": [
        "import numpy as np\n",
        "import matplotlib\n",
        "import pandas as pd\n",
        "\n"
      ]
    },
    {
      "cell_type": "code",
      "source": [
        "import pandas as pd\n",
        "#!file -bi crime_denver.csv\n",
        "filepath=\"/content/drive/MyDrive/CrimeAnalysis/DenverCrimeData/crime.csv\"\n",
        "\n",
        "df = pd.read_csv(filepath, encoding='ISO-8859-1')\n",
        "\n",
        "\n",
        "# Print the DataFrame\n",
        "print(df.head())\n"
      ],
      "metadata": {
        "id": "t9OmNy0KREAB",
        "outputId": "f049bed9-d4b8-4542-da05-2b83d9106cc1",
        "colab": {
          "base_uri": "https://localhost:8080/"
        }
      },
      "execution_count": 2,
      "outputs": [
        {
          "output_type": "stream",
          "name": "stdout",
          "text": [
            "   incident_id        offense_id  offense_code  offense_code_extension  \\\n",
            "0    202268791   202268791299900          2999                       0   \n",
            "1   2021387586  2021387586299900          2999                       0   \n",
            "2   2020641486  2020641486299900          2999                       0   \n",
            "3   2018612468  2018612468299900          2999                       0   \n",
            "4   2020293614  2020293614299900          2999                       0   \n",
            "\n",
            "           offense_type_id offense_category_id  first_occurrence_date  \\\n",
            "0  criminal-mischief-other     public-disorder   2/10/2022 2:50:00 AM   \n",
            "1  criminal-mischief-other     public-disorder    7/7/2021 9:02:00 PM   \n",
            "2  criminal-mischief-other     public-disorder  10/29/2020 1:30:00 AM   \n",
            "3  criminal-mischief-other     public-disorder    9/6/2018 5:00:00 PM   \n",
            "4  criminal-mischief-other     public-disorder    5/8/2020 5:00:00 AM   \n",
            "\n",
            "   last_occurrence_date          reported_date     incident_address  \\\n",
            "0                   NaN   2/10/2022 3:16:00 AM   1107 N SANTA FE DR   \n",
            "1                   NaN   7/8/2021 12:55:00 AM          815 16TH ST   \n",
            "2                   NaN  10/29/2020 4:31:00 AM  4745 N FEDERAL BLVD   \n",
            "3  9/6/2018 11:00:00 PM    9/7/2018 9:58:00 AM    65 S FEDERAL BLVD   \n",
            "4   5/8/2020 6:30:00 PM  5/13/2020 10:00:00 AM   12295 E ALBROOK DR   \n",
            "\n",
            "       geo_x      geo_y     geo_lon    geo_lat district_id  precinct_id  \\\n",
            "0  3140929.0  1692612.0 -104.998910  39.733957           1          123   \n",
            "1  3142470.0  1697098.0 -104.993342  39.746248           6          611   \n",
            "2  3133352.0  1710396.0 -105.025520  39.782888           1          111   \n",
            "3  3133534.0  1685797.0 -105.025330  39.715357           4          411   \n",
            "4  3184065.0  1710782.0 -104.845074  39.783082           5          521   \n",
            "\n",
            "  neighborhood_id  is_crime  is_traffic  victim_count  \n",
            "0    lincoln-park         1           0             1  \n",
            "1             cbd         1           0             1  \n",
            "2        berkeley         1           0             1  \n",
            "3          barnum         1           0             1  \n",
            "4       montbello         1           0             1  \n"
          ]
        }
      ]
    },
    {
      "cell_type": "code",
      "source": [
        "column_names = df.columns.tolist()\n",
        "print(column_names)"
      ],
      "metadata": {
        "colab": {
          "base_uri": "https://localhost:8080/"
        },
        "id": "wGAdmWCkPD8b",
        "outputId": "b3022dc2-98fb-42c9-e2bb-c8645a1a1275"
      },
      "execution_count": 3,
      "outputs": [
        {
          "output_type": "stream",
          "name": "stdout",
          "text": [
            "['incident_id', 'offense_id', 'offense_code', 'offense_code_extension', 'offense_type_id', 'offense_category_id', 'first_occurrence_date', 'last_occurrence_date', 'reported_date', 'incident_address', 'geo_x', 'geo_y', 'geo_lon', 'geo_lat', 'district_id', 'precinct_id', 'neighborhood_id', 'is_crime', 'is_traffic', 'victim_count']\n"
          ]
        }
      ]
    },
    {
      "cell_type": "markdown",
      "source": [
        "columns_to_drop = ['offense_code','offense_type_id', 'offense_category_id', 'first_occurrence_date', 'last_occurrence_date', 'reported_date', 'geo_x', 'geo_y', 'district_id', 'is_traffic', 'victim_count']  # List of column names to drop\n",
        "df = df.drop(columns_to_drop,  axis=1)"
      ],
      "metadata": {
        "id": "iBA_gQNGPPi3"
      }
    },
    {
      "cell_type": "code",
      "source": [
        "# Assuming df is your DataFrame\n",
        "print(df.columns)\n",
        "#columns_to_drop = ['incident_id','offense_code']  # List of column names to drop\n",
        "df = df.drop(['offense_type_id', 'offense_category_id','first_occurrence_date','last_occurrence_date', 'is_traffic','victim_count', 'incident_address', 'geo_x', 'geo_y', 'is_crime'], axis=1)\n"
      ],
      "metadata": {
        "colab": {
          "base_uri": "https://localhost:8080/"
        },
        "id": "dCkRSQv9OJwB",
        "outputId": "df020914-1593-4c42-8ea9-f66f24873775"
      },
      "execution_count": 4,
      "outputs": [
        {
          "output_type": "stream",
          "name": "stdout",
          "text": [
            "Index(['incident_id', 'offense_id', 'offense_code', 'offense_code_extension',\n",
            "       'offense_type_id', 'offense_category_id', 'first_occurrence_date',\n",
            "       'last_occurrence_date', 'reported_date', 'incident_address', 'geo_x',\n",
            "       'geo_y', 'geo_lon', 'geo_lat', 'district_id', 'precinct_id',\n",
            "       'neighborhood_id', 'is_crime', 'is_traffic', 'victim_count'],\n",
            "      dtype='object')\n"
          ]
        }
      ]
    },
    {
      "cell_type": "code",
      "source": [
        "fin_column_names= df.columns.tolist()\n",
        "print(fin_column_names)"
      ],
      "metadata": {
        "colab": {
          "base_uri": "https://localhost:8080/"
        },
        "id": "hrT5hIiihA2D",
        "outputId": "5b567b5a-12e3-4a9e-d38d-7f29bf70ed2f"
      },
      "execution_count": 5,
      "outputs": [
        {
          "output_type": "stream",
          "name": "stdout",
          "text": [
            "['incident_id', 'offense_id', 'offense_code', 'offense_code_extension', 'reported_date', 'geo_lon', 'geo_lat', 'district_id', 'precinct_id', 'neighborhood_id']\n"
          ]
        }
      ]
    },
    {
      "cell_type": "code",
      "source": [
        "print(df.head())"
      ],
      "metadata": {
        "colab": {
          "base_uri": "https://localhost:8080/"
        },
        "id": "37CqERoVcWY6",
        "outputId": "00a18a23-9f99-4e66-d296-f949e43d1339"
      },
      "execution_count": 6,
      "outputs": [
        {
          "output_type": "stream",
          "name": "stdout",
          "text": [
            "   incident_id        offense_id  offense_code  offense_code_extension  \\\n",
            "0    202268791   202268791299900          2999                       0   \n",
            "1   2021387586  2021387586299900          2999                       0   \n",
            "2   2020641486  2020641486299900          2999                       0   \n",
            "3   2018612468  2018612468299900          2999                       0   \n",
            "4   2020293614  2020293614299900          2999                       0   \n",
            "\n",
            "           reported_date     geo_lon    geo_lat district_id  precinct_id  \\\n",
            "0   2/10/2022 3:16:00 AM -104.998910  39.733957           1          123   \n",
            "1   7/8/2021 12:55:00 AM -104.993342  39.746248           6          611   \n",
            "2  10/29/2020 4:31:00 AM -105.025520  39.782888           1          111   \n",
            "3    9/7/2018 9:58:00 AM -105.025330  39.715357           4          411   \n",
            "4  5/13/2020 10:00:00 AM -104.845074  39.783082           5          521   \n",
            "\n",
            "  neighborhood_id  \n",
            "0    lincoln-park  \n",
            "1             cbd  \n",
            "2        berkeley  \n",
            "3          barnum  \n",
            "4       montbello  \n"
          ]
        }
      ]
    },
    {
      "cell_type": "code",
      "source": [
        "# Assuming df is your DataFrame and 'column_name' is the name of the column\n",
        "unique_values = df['neighborhood_id'].unique()\n",
        "print(len(unique_values))\n"
      ],
      "metadata": {
        "colab": {
          "base_uri": "https://localhost:8080/"
        },
        "id": "Q3w2RcXEd7Rb",
        "outputId": "3a2e4089-a41c-4a47-8d77-96bef708d635"
      },
      "execution_count": 7,
      "outputs": [
        {
          "output_type": "stream",
          "name": "stdout",
          "text": [
            "79\n"
          ]
        }
      ]
    },
    {
      "cell_type": "markdown",
      "source": [
        "It can be seen that neighborhood_id has 79 unique values. In the next step we will be encoding it to numeric values"
      ],
      "metadata": {
        "id": "V9y1kC3WiVYU"
      }
    },
    {
      "cell_type": "code",
      "source": [
        "from sklearn.preprocessing import LabelEncoder\n",
        "\n",
        "# Assuming df is your DataFrame and 'column_name' is the name of the column\n",
        "label_encoder = LabelEncoder()\n",
        "encoded_values = label_encoder.fit_transform(df['neighborhood_id'])\n",
        "\n",
        "encoded_df = pd.DataFrame({\n",
        "    'Original': df['neighborhood_id'],\n",
        "    'Encoded': encoded_values\n",
        "})\n",
        "\n",
        "# Drop duplicate rows to avoid repeating entries for the same string\n",
        "encoded_df.drop_duplicates(inplace=True)\n",
        "\n",
        "# Sort the DataFrame by the encoded values for better readability\n",
        "encoded_df.sort_values(by='Encoded', inplace=True)\n",
        "\n",
        "# Display the DataFrame\n",
        "print(encoded_df)\n"
      ],
      "metadata": {
        "colab": {
          "base_uri": "https://localhost:8080/"
        },
        "id": "ZRRgxHwnfR3F",
        "outputId": "3c28e5d3-daf0-4d97-a5af-c7d914505adf"
      },
      "execution_count": 8,
      "outputs": [
        {
          "output_type": "stream",
          "name": "stdout",
          "text": [
            "           Original  Encoded\n",
            "18      athmar-park        0\n",
            "324         auraria        1\n",
            "40            baker        2\n",
            "3            barnum        3\n",
            "10      barnum-west        4\n",
            "...             ...      ...\n",
            "52    west-highland       74\n",
            "33         westwood       75\n",
            "9          whittier       76\n",
            "351         windsor       77\n",
            "1296            NaN       78\n",
            "\n",
            "[79 rows x 2 columns]\n"
          ]
        }
      ]
    },
    {
      "cell_type": "code",
      "source": [
        "df['neighborhood_id'] = encoded_values\n",
        "df.head()"
      ],
      "metadata": {
        "colab": {
          "base_uri": "https://localhost:8080/",
          "height": 206
        },
        "id": "nDM8UN4Sfcul",
        "outputId": "e1632dd6-c1a1-4d95-ecfa-edf713a9ea8f"
      },
      "execution_count": 9,
      "outputs": [
        {
          "output_type": "execute_result",
          "data": {
            "text/plain": [
              "   incident_id        offense_id  offense_code  offense_code_extension  \\\n",
              "0    202268791   202268791299900          2999                       0   \n",
              "1   2021387586  2021387586299900          2999                       0   \n",
              "2   2020641486  2020641486299900          2999                       0   \n",
              "3   2018612468  2018612468299900          2999                       0   \n",
              "4   2020293614  2020293614299900          2999                       0   \n",
              "\n",
              "           reported_date     geo_lon    geo_lat district_id  precinct_id  \\\n",
              "0   2/10/2022 3:16:00 AM -104.998910  39.733957           1          123   \n",
              "1   7/8/2021 12:55:00 AM -104.993342  39.746248           6          611   \n",
              "2  10/29/2020 4:31:00 AM -105.025520  39.782888           1          111   \n",
              "3    9/7/2018 9:58:00 AM -105.025330  39.715357           4          411   \n",
              "4  5/13/2020 10:00:00 AM -104.845074  39.783082           5          521   \n",
              "\n",
              "   neighborhood_id  \n",
              "0               41  \n",
              "1                9  \n",
              "2                7  \n",
              "3                3  \n",
              "4               45  "
            ],
            "text/html": [
              "\n",
              "  <div id=\"df-8d512514-ba90-4b4c-8c85-9c45c71783e2\" class=\"colab-df-container\">\n",
              "    <div>\n",
              "<style scoped>\n",
              "    .dataframe tbody tr th:only-of-type {\n",
              "        vertical-align: middle;\n",
              "    }\n",
              "\n",
              "    .dataframe tbody tr th {\n",
              "        vertical-align: top;\n",
              "    }\n",
              "\n",
              "    .dataframe thead th {\n",
              "        text-align: right;\n",
              "    }\n",
              "</style>\n",
              "<table border=\"1\" class=\"dataframe\">\n",
              "  <thead>\n",
              "    <tr style=\"text-align: right;\">\n",
              "      <th></th>\n",
              "      <th>incident_id</th>\n",
              "      <th>offense_id</th>\n",
              "      <th>offense_code</th>\n",
              "      <th>offense_code_extension</th>\n",
              "      <th>reported_date</th>\n",
              "      <th>geo_lon</th>\n",
              "      <th>geo_lat</th>\n",
              "      <th>district_id</th>\n",
              "      <th>precinct_id</th>\n",
              "      <th>neighborhood_id</th>\n",
              "    </tr>\n",
              "  </thead>\n",
              "  <tbody>\n",
              "    <tr>\n",
              "      <th>0</th>\n",
              "      <td>202268791</td>\n",
              "      <td>202268791299900</td>\n",
              "      <td>2999</td>\n",
              "      <td>0</td>\n",
              "      <td>2/10/2022 3:16:00 AM</td>\n",
              "      <td>-104.998910</td>\n",
              "      <td>39.733957</td>\n",
              "      <td>1</td>\n",
              "      <td>123</td>\n",
              "      <td>41</td>\n",
              "    </tr>\n",
              "    <tr>\n",
              "      <th>1</th>\n",
              "      <td>2021387586</td>\n",
              "      <td>2021387586299900</td>\n",
              "      <td>2999</td>\n",
              "      <td>0</td>\n",
              "      <td>7/8/2021 12:55:00 AM</td>\n",
              "      <td>-104.993342</td>\n",
              "      <td>39.746248</td>\n",
              "      <td>6</td>\n",
              "      <td>611</td>\n",
              "      <td>9</td>\n",
              "    </tr>\n",
              "    <tr>\n",
              "      <th>2</th>\n",
              "      <td>2020641486</td>\n",
              "      <td>2020641486299900</td>\n",
              "      <td>2999</td>\n",
              "      <td>0</td>\n",
              "      <td>10/29/2020 4:31:00 AM</td>\n",
              "      <td>-105.025520</td>\n",
              "      <td>39.782888</td>\n",
              "      <td>1</td>\n",
              "      <td>111</td>\n",
              "      <td>7</td>\n",
              "    </tr>\n",
              "    <tr>\n",
              "      <th>3</th>\n",
              "      <td>2018612468</td>\n",
              "      <td>2018612468299900</td>\n",
              "      <td>2999</td>\n",
              "      <td>0</td>\n",
              "      <td>9/7/2018 9:58:00 AM</td>\n",
              "      <td>-105.025330</td>\n",
              "      <td>39.715357</td>\n",
              "      <td>4</td>\n",
              "      <td>411</td>\n",
              "      <td>3</td>\n",
              "    </tr>\n",
              "    <tr>\n",
              "      <th>4</th>\n",
              "      <td>2020293614</td>\n",
              "      <td>2020293614299900</td>\n",
              "      <td>2999</td>\n",
              "      <td>0</td>\n",
              "      <td>5/13/2020 10:00:00 AM</td>\n",
              "      <td>-104.845074</td>\n",
              "      <td>39.783082</td>\n",
              "      <td>5</td>\n",
              "      <td>521</td>\n",
              "      <td>45</td>\n",
              "    </tr>\n",
              "  </tbody>\n",
              "</table>\n",
              "</div>\n",
              "    <div class=\"colab-df-buttons\">\n",
              "\n",
              "  <div class=\"colab-df-container\">\n",
              "    <button class=\"colab-df-convert\" onclick=\"convertToInteractive('df-8d512514-ba90-4b4c-8c85-9c45c71783e2')\"\n",
              "            title=\"Convert this dataframe to an interactive table.\"\n",
              "            style=\"display:none;\">\n",
              "\n",
              "  <svg xmlns=\"http://www.w3.org/2000/svg\" height=\"24px\" viewBox=\"0 -960 960 960\">\n",
              "    <path d=\"M120-120v-720h720v720H120Zm60-500h600v-160H180v160Zm220 220h160v-160H400v160Zm0 220h160v-160H400v160ZM180-400h160v-160H180v160Zm440 0h160v-160H620v160ZM180-180h160v-160H180v160Zm440 0h160v-160H620v160Z\"/>\n",
              "  </svg>\n",
              "    </button>\n",
              "\n",
              "  <style>\n",
              "    .colab-df-container {\n",
              "      display:flex;\n",
              "      gap: 12px;\n",
              "    }\n",
              "\n",
              "    .colab-df-convert {\n",
              "      background-color: #E8F0FE;\n",
              "      border: none;\n",
              "      border-radius: 50%;\n",
              "      cursor: pointer;\n",
              "      display: none;\n",
              "      fill: #1967D2;\n",
              "      height: 32px;\n",
              "      padding: 0 0 0 0;\n",
              "      width: 32px;\n",
              "    }\n",
              "\n",
              "    .colab-df-convert:hover {\n",
              "      background-color: #E2EBFA;\n",
              "      box-shadow: 0px 1px 2px rgba(60, 64, 67, 0.3), 0px 1px 3px 1px rgba(60, 64, 67, 0.15);\n",
              "      fill: #174EA6;\n",
              "    }\n",
              "\n",
              "    .colab-df-buttons div {\n",
              "      margin-bottom: 4px;\n",
              "    }\n",
              "\n",
              "    [theme=dark] .colab-df-convert {\n",
              "      background-color: #3B4455;\n",
              "      fill: #D2E3FC;\n",
              "    }\n",
              "\n",
              "    [theme=dark] .colab-df-convert:hover {\n",
              "      background-color: #434B5C;\n",
              "      box-shadow: 0px 1px 3px 1px rgba(0, 0, 0, 0.15);\n",
              "      filter: drop-shadow(0px 1px 2px rgba(0, 0, 0, 0.3));\n",
              "      fill: #FFFFFF;\n",
              "    }\n",
              "  </style>\n",
              "\n",
              "    <script>\n",
              "      const buttonEl =\n",
              "        document.querySelector('#df-8d512514-ba90-4b4c-8c85-9c45c71783e2 button.colab-df-convert');\n",
              "      buttonEl.style.display =\n",
              "        google.colab.kernel.accessAllowed ? 'block' : 'none';\n",
              "\n",
              "      async function convertToInteractive(key) {\n",
              "        const element = document.querySelector('#df-8d512514-ba90-4b4c-8c85-9c45c71783e2');\n",
              "        const dataTable =\n",
              "          await google.colab.kernel.invokeFunction('convertToInteractive',\n",
              "                                                    [key], {});\n",
              "        if (!dataTable) return;\n",
              "\n",
              "        const docLinkHtml = 'Like what you see? Visit the ' +\n",
              "          '<a target=\"_blank\" href=https://colab.research.google.com/notebooks/data_table.ipynb>data table notebook</a>'\n",
              "          + ' to learn more about interactive tables.';\n",
              "        element.innerHTML = '';\n",
              "        dataTable['output_type'] = 'display_data';\n",
              "        await google.colab.output.renderOutput(dataTable, element);\n",
              "        const docLink = document.createElement('div');\n",
              "        docLink.innerHTML = docLinkHtml;\n",
              "        element.appendChild(docLink);\n",
              "      }\n",
              "    </script>\n",
              "  </div>\n",
              "\n",
              "\n",
              "<div id=\"df-f3db50ea-4f29-4b25-ab3e-c3ba712661c8\">\n",
              "  <button class=\"colab-df-quickchart\" onclick=\"quickchart('df-f3db50ea-4f29-4b25-ab3e-c3ba712661c8')\"\n",
              "            title=\"Suggest charts\"\n",
              "            style=\"display:none;\">\n",
              "\n",
              "<svg xmlns=\"http://www.w3.org/2000/svg\" height=\"24px\"viewBox=\"0 0 24 24\"\n",
              "     width=\"24px\">\n",
              "    <g>\n",
              "        <path d=\"M19 3H5c-1.1 0-2 .9-2 2v14c0 1.1.9 2 2 2h14c1.1 0 2-.9 2-2V5c0-1.1-.9-2-2-2zM9 17H7v-7h2v7zm4 0h-2V7h2v10zm4 0h-2v-4h2v4z\"/>\n",
              "    </g>\n",
              "</svg>\n",
              "  </button>\n",
              "\n",
              "<style>\n",
              "  .colab-df-quickchart {\n",
              "      --bg-color: #E8F0FE;\n",
              "      --fill-color: #1967D2;\n",
              "      --hover-bg-color: #E2EBFA;\n",
              "      --hover-fill-color: #174EA6;\n",
              "      --disabled-fill-color: #AAA;\n",
              "      --disabled-bg-color: #DDD;\n",
              "  }\n",
              "\n",
              "  [theme=dark] .colab-df-quickchart {\n",
              "      --bg-color: #3B4455;\n",
              "      --fill-color: #D2E3FC;\n",
              "      --hover-bg-color: #434B5C;\n",
              "      --hover-fill-color: #FFFFFF;\n",
              "      --disabled-bg-color: #3B4455;\n",
              "      --disabled-fill-color: #666;\n",
              "  }\n",
              "\n",
              "  .colab-df-quickchart {\n",
              "    background-color: var(--bg-color);\n",
              "    border: none;\n",
              "    border-radius: 50%;\n",
              "    cursor: pointer;\n",
              "    display: none;\n",
              "    fill: var(--fill-color);\n",
              "    height: 32px;\n",
              "    padding: 0;\n",
              "    width: 32px;\n",
              "  }\n",
              "\n",
              "  .colab-df-quickchart:hover {\n",
              "    background-color: var(--hover-bg-color);\n",
              "    box-shadow: 0 1px 2px rgba(60, 64, 67, 0.3), 0 1px 3px 1px rgba(60, 64, 67, 0.15);\n",
              "    fill: var(--button-hover-fill-color);\n",
              "  }\n",
              "\n",
              "  .colab-df-quickchart-complete:disabled,\n",
              "  .colab-df-quickchart-complete:disabled:hover {\n",
              "    background-color: var(--disabled-bg-color);\n",
              "    fill: var(--disabled-fill-color);\n",
              "    box-shadow: none;\n",
              "  }\n",
              "\n",
              "  .colab-df-spinner {\n",
              "    border: 2px solid var(--fill-color);\n",
              "    border-color: transparent;\n",
              "    border-bottom-color: var(--fill-color);\n",
              "    animation:\n",
              "      spin 1s steps(1) infinite;\n",
              "  }\n",
              "\n",
              "  @keyframes spin {\n",
              "    0% {\n",
              "      border-color: transparent;\n",
              "      border-bottom-color: var(--fill-color);\n",
              "      border-left-color: var(--fill-color);\n",
              "    }\n",
              "    20% {\n",
              "      border-color: transparent;\n",
              "      border-left-color: var(--fill-color);\n",
              "      border-top-color: var(--fill-color);\n",
              "    }\n",
              "    30% {\n",
              "      border-color: transparent;\n",
              "      border-left-color: var(--fill-color);\n",
              "      border-top-color: var(--fill-color);\n",
              "      border-right-color: var(--fill-color);\n",
              "    }\n",
              "    40% {\n",
              "      border-color: transparent;\n",
              "      border-right-color: var(--fill-color);\n",
              "      border-top-color: var(--fill-color);\n",
              "    }\n",
              "    60% {\n",
              "      border-color: transparent;\n",
              "      border-right-color: var(--fill-color);\n",
              "    }\n",
              "    80% {\n",
              "      border-color: transparent;\n",
              "      border-right-color: var(--fill-color);\n",
              "      border-bottom-color: var(--fill-color);\n",
              "    }\n",
              "    90% {\n",
              "      border-color: transparent;\n",
              "      border-bottom-color: var(--fill-color);\n",
              "    }\n",
              "  }\n",
              "</style>\n",
              "\n",
              "  <script>\n",
              "    async function quickchart(key) {\n",
              "      const quickchartButtonEl =\n",
              "        document.querySelector('#' + key + ' button');\n",
              "      quickchartButtonEl.disabled = true;  // To prevent multiple clicks.\n",
              "      quickchartButtonEl.classList.add('colab-df-spinner');\n",
              "      try {\n",
              "        const charts = await google.colab.kernel.invokeFunction(\n",
              "            'suggestCharts', [key], {});\n",
              "      } catch (error) {\n",
              "        console.error('Error during call to suggestCharts:', error);\n",
              "      }\n",
              "      quickchartButtonEl.classList.remove('colab-df-spinner');\n",
              "      quickchartButtonEl.classList.add('colab-df-quickchart-complete');\n",
              "    }\n",
              "    (() => {\n",
              "      let quickchartButtonEl =\n",
              "        document.querySelector('#df-f3db50ea-4f29-4b25-ab3e-c3ba712661c8 button');\n",
              "      quickchartButtonEl.style.display =\n",
              "        google.colab.kernel.accessAllowed ? 'block' : 'none';\n",
              "    })();\n",
              "  </script>\n",
              "</div>\n",
              "\n",
              "    </div>\n",
              "  </div>\n"
            ],
            "application/vnd.google.colaboratory.intrinsic+json": {
              "type": "dataframe",
              "variable_name": "df"
            }
          },
          "metadata": {},
          "execution_count": 9
        }
      ]
    },
    {
      "cell_type": "code",
      "source": [
        "import pandas as pd\n",
        "\n",
        "# Assuming your dataset is stored in a Pandas DataFrame named 'df'\n",
        "# and the time column is named 'time_column'\n",
        "\n",
        "# Convert the time column to a numerical format\n",
        "df['time_numerical'] = pd.to_datetime(df['reported_date'], format=\"%m/%d/%Y %I:%M:%S %p\").astype(int) // 10 ** 9\n",
        "\n",
        "# Replace the original time column with the numerical format\n",
        "df['reported_date'] = df['time_numerical']\n",
        "\n",
        "# Drop the temporary 'time_numerical' column if needed\n",
        "df = df.drop('time_numerical', axis=1)\n",
        "\n",
        "# Display the first few rows of the DataFrame\n",
        "print(df.head())"
      ],
      "metadata": {
        "colab": {
          "base_uri": "https://localhost:8080/"
        },
        "id": "tap_QZEU54c8",
        "outputId": "b578f725-3355-48ab-d24e-8bfe8e4eee54"
      },
      "execution_count": 10,
      "outputs": [
        {
          "output_type": "stream",
          "name": "stdout",
          "text": [
            "   incident_id        offense_id  offense_code  offense_code_extension  \\\n",
            "0    202268791   202268791299900          2999                       0   \n",
            "1   2021387586  2021387586299900          2999                       0   \n",
            "2   2020641486  2020641486299900          2999                       0   \n",
            "3   2018612468  2018612468299900          2999                       0   \n",
            "4   2020293614  2020293614299900          2999                       0   \n",
            "\n",
            "   reported_date     geo_lon    geo_lat district_id  precinct_id  \\\n",
            "0     1644462960 -104.998910  39.733957           1          123   \n",
            "1     1625705700 -104.993342  39.746248           6          611   \n",
            "2     1603945860 -105.025520  39.782888           1          111   \n",
            "3     1536314280 -105.025330  39.715357           4          411   \n",
            "4     1589364000 -104.845074  39.783082           5          521   \n",
            "\n",
            "   neighborhood_id  \n",
            "0               41  \n",
            "1                9  \n",
            "2                7  \n",
            "3                3  \n",
            "4               45  \n"
          ]
        }
      ]
    },
    {
      "cell_type": "code",
      "source": [
        "df[\"reported_date\"].isna().sum()"
      ],
      "metadata": {
        "colab": {
          "base_uri": "https://localhost:8080/"
        },
        "id": "SO_bMMaD6XgM",
        "outputId": "7eb34d7e-adcb-4a8c-e5e2-dfec409a9168"
      },
      "execution_count": 11,
      "outputs": [
        {
          "output_type": "execute_result",
          "data": {
            "text/plain": [
              "0"
            ]
          },
          "metadata": {},
          "execution_count": 11
        }
      ]
    },
    {
      "cell_type": "code",
      "source": [
        "# Assuming df is your DataFrame and 'column_name' is the name of the column\n",
        "df.replace('', pd.NA, inplace=True)\n",
        "import pandas as pd\n",
        "import numpy as np\n",
        "\n",
        "print(\"number of missing values in each column before imputation\")\n",
        "\n",
        "# Assuming your dataframe is named 'df'\n",
        "for column in df.columns:\n",
        "    df[column] = pd.to_numeric(df[column], errors='coerce')\n",
        "    print(df[column].isna().sum(), column)\n"
      ],
      "metadata": {
        "colab": {
          "base_uri": "https://localhost:8080/"
        },
        "id": "AIOYZJzsf_LF",
        "outputId": "ac1db7a6-d1b2-4600-a58d-5d5b36e2c80f"
      },
      "execution_count": 12,
      "outputs": [
        {
          "output_type": "stream",
          "name": "stdout",
          "text": [
            "number of missing values in each column before imputation\n",
            "0 incident_id\n",
            "0 offense_id\n",
            "0 offense_code\n",
            "0 offense_code_extension\n",
            "0 reported_date\n",
            "15769 geo_lon\n",
            "15769 geo_lat\n",
            "525 district_id\n",
            "0 precinct_id\n",
            "0 neighborhood_id\n"
          ]
        }
      ]
    },
    {
      "cell_type": "markdown",
      "source": [
        "we can see that the date time format has to be converted into numerical format\n"
      ],
      "metadata": {
        "id": "W3ElvIR33LD-"
      }
    },
    {
      "cell_type": "markdown",
      "source": [
        "It can be seen that geo_lon, geo_lat and district_id have multiple missing values\n"
      ],
      "metadata": {
        "id": "7mzhGhzmiHm-"
      }
    },
    {
      "cell_type": "code",
      "source": [
        "# Interpolate missing values\n",
        "#df['geo_lon'] = df['geo_lon'].interpolate()\n",
        "#df['geo_lat'] = df['geo_lat'].interpolate()\n",
        "\n",
        "#df['district_id'] = df['district_id'].fillna(df['district_id'].median())\n",
        "\n",
        "df['geo_lat'] = df['geo_lat'].fillna(df['geo_lat'].median())\n",
        "df['geo_lon'] = df['geo_lon'].fillna(df['geo_lon'].median())\n",
        "\n",
        "print(\"number of missing values in each column\")\n",
        "\n",
        "for column in df.columns:\n",
        "    print(df[column].isna().sum(), column)\n"
      ],
      "metadata": {
        "colab": {
          "base_uri": "https://localhost:8080/"
        },
        "id": "bwN0yqYaiRbw",
        "outputId": "2d9ca6cc-ec1c-41b1-c85c-05bdc571f28d"
      },
      "execution_count": 13,
      "outputs": [
        {
          "output_type": "stream",
          "name": "stdout",
          "text": [
            "number of missing values in each column\n",
            "0 incident_id\n",
            "0 offense_id\n",
            "0 offense_code\n",
            "0 offense_code_extension\n",
            "0 reported_date\n",
            "0 geo_lon\n",
            "0 geo_lat\n",
            "525 district_id\n",
            "0 precinct_id\n",
            "0 neighborhood_id\n"
          ]
        }
      ]
    },
    {
      "cell_type": "markdown",
      "source": [
        "imputing district values"
      ],
      "metadata": {
        "id": "Jh9f_x09HEZr"
      }
    },
    {
      "cell_type": "code",
      "source": [
        "import pandas as pd\n",
        "from sklearn.experimental import enable_iterative_imputer\n",
        "from sklearn.impute import IterativeImputer\n",
        "from sklearn.linear_model import LinearRegression\n",
        "\n",
        "# Create the imputer and impute the missing district_id values\n",
        "imputer = IterativeImputer(estimator=LinearRegression(), random_state=42, missing_values=np.nan)\n",
        "df['district_id'] = imputer.fit_transform(df[['district_id']])\n",
        "\n",
        "print(df)\n",
        "for column in df.columns:\n",
        "    print(df[column].isna().sum(), column)\n"
      ],
      "metadata": {
        "colab": {
          "base_uri": "https://localhost:8080/"
        },
        "id": "w3yO93NA7wma",
        "outputId": "4aad6f7d-d444-45c2-91ba-a7e909fe071c"
      },
      "execution_count": 14,
      "outputs": [
        {
          "output_type": "stream",
          "name": "stdout",
          "text": [
            "        incident_id        offense_id  offense_code  offense_code_extension  \\\n",
            "0         202268791   202268791299900          2999                       0   \n",
            "1        2021387586  2021387586299900          2999                       0   \n",
            "2        2020641486  2020641486299900          2999                       0   \n",
            "3        2018612468  2018612468299900          2999                       0   \n",
            "4        2020293614  2020293614299900          2999                       0   \n",
            "...             ...               ...           ...                     ...   \n",
            "386860   2023534182  2023534182240400          2404                       0   \n",
            "386861   2023534279  2023534279260900          2609                       0   \n",
            "386862   2023533509  2023533509131506          1315                       6   \n",
            "386863   2023533048  2023533048131506          1315                       6   \n",
            "386864   2023532323  2023532323131506          1315                       6   \n",
            "\n",
            "        reported_date     geo_lon    geo_lat  district_id  precinct_id  \\\n",
            "0          1644462960 -104.998910  39.733957          1.0          123   \n",
            "1          1625705700 -104.993342  39.746248          6.0          611   \n",
            "2          1603945860 -105.025520  39.782888          1.0          111   \n",
            "3          1536314280 -105.025330  39.715357          4.0          411   \n",
            "4          1589364000 -104.845074  39.783082          5.0          521   \n",
            "...               ...         ...        ...          ...          ...   \n",
            "386860     1696354800 -104.890099  39.712310          3.0          321   \n",
            "386861     1696358040 -104.981021  39.714843          3.0          311   \n",
            "386862     1696334580 -104.861343  39.795869          5.0          511   \n",
            "386863     1696326420 -104.883680  39.706214          3.0          321   \n",
            "386864     1696270560 -105.052966  39.735110          1.0          122   \n",
            "\n",
            "        neighborhood_id  \n",
            "0                    41  \n",
            "1                     9  \n",
            "2                     7  \n",
            "3                     3  \n",
            "4                    45  \n",
            "...                 ...  \n",
            "386860               42  \n",
            "386861               59  \n",
            "386862               45  \n",
            "386863               77  \n",
            "386864               73  \n",
            "\n",
            "[386865 rows x 10 columns]\n",
            "0 incident_id\n",
            "0 offense_id\n",
            "0 offense_code\n",
            "0 offense_code_extension\n",
            "0 reported_date\n",
            "0 geo_lon\n",
            "0 geo_lat\n",
            "0 district_id\n",
            "0 precinct_id\n",
            "0 neighborhood_id\n"
          ]
        }
      ]
    },
    {
      "cell_type": "code",
      "source": [
        "#print(df['geo_lat'].isna().sum())\n",
        "#if df.isna().sum()!=0:\n",
        "#df['geo_lat'] = df['geo_lat'].interpolate()\n",
        "\n",
        "\n",
        "print(df['geo_lat'].isna().sum())\n",
        "print(df.isna().sum())"
      ],
      "metadata": {
        "colab": {
          "base_uri": "https://localhost:8080/"
        },
        "id": "DMZgzlZTQog7",
        "outputId": "7211e14f-2983-4830-ec30-438d32f39383"
      },
      "execution_count": 15,
      "outputs": [
        {
          "output_type": "stream",
          "name": "stdout",
          "text": [
            "0\n",
            "incident_id               0\n",
            "offense_id                0\n",
            "offense_code              0\n",
            "offense_code_extension    0\n",
            "reported_date             0\n",
            "geo_lon                   0\n",
            "geo_lat                   0\n",
            "district_id               0\n",
            "precinct_id               0\n",
            "neighborhood_id           0\n",
            "dtype: int64\n"
          ]
        }
      ]
    },
    {
      "cell_type": "code",
      "source": [
        "#df['geo_lat'] = df['geo_lat'].fillna(df['geo_lat'].median())\n",
        "#df['geo_lon'] = df['geo_lon'].fillna(df['geo_lon'].median())"
      ],
      "metadata": {
        "id": "74FE9aEJVe9y"
      },
      "execution_count": 16,
      "outputs": []
    },
    {
      "cell_type": "markdown",
      "source": [
        "#Training the model"
      ],
      "metadata": {
        "id": "bxQmsOnWK-E6"
      }
    },
    {
      "cell_type": "code",
      "source": [
        "from sklearn.tree import DecisionTreeRegressor\n",
        "from sklearn.svm import SVR\n",
        "from sklearn.metrics import mean_squared_error as mse\n",
        "from sklearn.model_selection import train_test_split"
      ],
      "metadata": {
        "id": "g0RPuPZ9KzA2"
      },
      "execution_count": 17,
      "outputs": []
    },
    {
      "cell_type": "code",
      "source": [
        "X = df[['incident_id', 'offense_id', 'offense_code', 'offense_code_extension', 'reported_date', 'geo_lon', 'geo_lat', 'district_id', 'neighborhood_id']]\n",
        "y = df['precinct_id']\n",
        "\n",
        "X_train, X_test, y_train, y_test = train_test_split(X, y, test_size = 0.2, shuffle = True)\n",
        "X_train, X_val, y_train, y_val = train_test_split(X_train, y_train, test_size = 0.1, shuffle = True)\n",
        "print(X_train,y_train)"
      ],
      "metadata": {
        "id": "gePLuQbLwAZs"
      },
      "execution_count": null,
      "outputs": []
    },
    {
      "cell_type": "code",
      "source": [
        "import pandas as pd\n",
        "from sklearn.model_selection import train_test_split, GridSearchCV\n",
        "from sklearn.linear_model import LinearRegression\n",
        "from sklearn.svm import SVR\n",
        "from sklearn.tree import DecisionTreeRegressor\n",
        "from sklearn.metrics import mean_absolute_error, r2_score\n",
        "\n",
        "\n",
        "# Split the data into features and target\n",
        "X = df[['incident_id', 'offense_id', 'offense_code', 'offense_code_extension', 'reported_date', 'geo_lon', 'geo_lat', 'district_id', 'neighborhood_id']]\n",
        "y = df['district_id']\n",
        "\n",
        "# Split the data into train and test sets\n",
        "X_train, X_test, y_train, y_test = train_test_split(X, y, test_size = 0.2, shuffle = True)\n",
        "X_train, X_val, y_train, y_val = train_test_split(X_train, y_train, test_size = 0.1, shuffle = True)\n"
      ],
      "metadata": {
        "id": "tLuKjwpZd52-"
      },
      "execution_count": 19,
      "outputs": []
    },
    {
      "cell_type": "code",
      "source": [
        "from sklearn.model_selection import train_test_split\n",
        "from sklearn.preprocessing import StandardScaler\n",
        "from sklearn.svm import SVR\n",
        "\n",
        "# Assuming X and y are your features and target variable\n",
        "# X_train, X_test, y_train, y_test = train_test_split(X, y, test_size=0.3)\n",
        "# X_train, X_val, y_train, y_val = train_test_split(X_train, y_train, test_size=2/7)\n",
        "\n",
        "# Scaling features\n",
        "scaler = StandardScaler()\n",
        "X_train_scaled = scaler.fit_transform(X_train)\n",
        "X_val_scaled = scaler.transform(X_val)\n",
        "X_test_scaled = scaler.transform(X_test)\n",
        "\n",
        "# Training the SVR model\n",
        "svr = SVR(kernel='rbf', C=1, gamma='scale')\n",
        "svr.fit(X_train_scaled, y_train)\n",
        "\n",
        "# Evaluating the model on the validation set\n",
        "y_val_pred = svr.predict(X_val_scaled)\n",
        "\n",
        "# You can now evaluate the performance of your model using metrics like RMSE, MAE, etc.\n"
      ],
      "metadata": {
        "id": "DLPqLeHta9Ri"
      },
      "execution_count": null,
      "outputs": []
    },
    {
      "cell_type": "code",
      "source": [
        "dtr_val_pred = dtr.predict(X_val)\n",
        "svr_val_pred = svr.predict(X_val)\n",
        "lin_val_pred = lin.predict(X_val)\n",
        "\n",
        "print(\"Decision Tree Regression mean squared error: \", mse(y_val, dtr_val_pred))\n",
        "print(\"Support Vector Regression mean squared error: \", mse(y_val, svr_val_pred))\n",
        "print(\"Linear Regression mean squared error: \", mse(y_val, lin_val_pred))"
      ],
      "metadata": {
        "id": "SyoqQwFzwri1"
      },
      "execution_count": null,
      "outputs": []
    },
    {
      "cell_type": "code",
      "source": [
        "print(df.isna())"
      ],
      "metadata": {
        "id": "Zn6pZfPMRYuQ"
      },
      "execution_count": null,
      "outputs": []
    }
  ]
}