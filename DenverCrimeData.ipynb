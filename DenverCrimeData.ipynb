{
  "nbformat": 4,
  "nbformat_minor": 0,
  "metadata": {
    "colab": {
      "provenance": [],
      "authorship_tag": "ABX9TyOXSesIf99URpESy+BYyiwe",
      "include_colab_link": true
    },
    "kernelspec": {
      "name": "python3",
      "display_name": "Python 3"
    },
    "language_info": {
      "name": "python"
    }
  },
  "cells": [
    {
      "cell_type": "markdown",
      "metadata": {
        "id": "view-in-github",
        "colab_type": "text"
      },
      "source": [
        "<a href=\"https://colab.research.google.com/github/Srujgit/CrimeAnalysis/blob/main/DenverCrimeData.ipynb\" target=\"_parent\"><img src=\"https://colab.research.google.com/assets/colab-badge.svg\" alt=\"Open In Colab\"/></a>"
      ]
    },
    {
      "cell_type": "code",
      "execution_count": 3,
      "metadata": {
        "id": "jdDfVpx3upAM"
      },
      "outputs": [],
      "source": [
        "import numpy as np\n",
        "import matplotlib\n",
        "import pandas as pd\n",
        "\n"
      ]
    },
    {
      "cell_type": "code",
      "source": [
        "import pandas as pd\n",
        "!file -bi crime_denver.csv\n",
        "\n",
        "# Read the CSV file into a DataFrame\n",
        "import pandas as pd\n",
        "#df = pd.read_csv('crime_denver.csv', encoding='utf-8')\n",
        "\n",
        "with open('crime_denver.csv', 'r', encoding='ISO-8859-1') as file:\n",
        "    df = pd.read_csv(file)\n",
        "\n",
        "\n",
        "# Print the DataFrame\n",
        "print(df.head())\n"
      ],
      "metadata": {
        "id": "t9OmNy0KREAB",
        "outputId": "e0984d43-157e-4f45-ec01-11d656fbfd50",
        "colab": {
          "base_uri": "https://localhost:8080/"
        }
      },
      "execution_count": 32,
      "outputs": [
        {
          "output_type": "stream",
          "name": "stdout",
          "text": [
            "text/csv; charset=us-ascii\n",
            "   incident_id        offense_id  offense_code  offense_code_extension  \\\n",
            "0    202268791   202268791299900          2999                       0   \n",
            "1   2021387586  2021387586299900          2999                       0   \n",
            "2   2020641486  2020641486299900          2999                       0   \n",
            "3   2018612468  2018612468299900          2999                       0   \n",
            "4   2020293614  2020293614299900          2999                       0   \n",
            "\n",
            "           offense_type_id offense_category_id  first_occurrence_date  \\\n",
            "0  criminal-mischief-other     public-disorder   2/10/2022 2:50:00 AM   \n",
            "1  criminal-mischief-other     public-disorder    7/7/2021 9:02:00 PM   \n",
            "2  criminal-mischief-other     public-disorder  10/29/2020 1:30:00 AM   \n",
            "3  criminal-mischief-other     public-disorder    9/6/2018 5:00:00 PM   \n",
            "4  criminal-mischief-other     public-disorder    5/8/2020 5:00:00 AM   \n",
            "\n",
            "   last_occurrence_date          reported_date     incident_address  \\\n",
            "0                   NaN   2/10/2022 3:16:00 AM   1107 N SANTA FE DR   \n",
            "1                   NaN   7/8/2021 12:55:00 AM          815 16TH ST   \n",
            "2                   NaN  10/29/2020 4:31:00 AM  4745 N FEDERAL BLVD   \n",
            "3  9/6/2018 11:00:00 PM    9/7/2018 9:58:00 AM    65 S FEDERAL BLVD   \n",
            "4   5/8/2020 6:30:00 PM  5/13/2020 10:00:00 AM   12295 E ALBROOK DR   \n",
            "\n",
            "       geo_x      geo_y     geo_lon    geo_lat district_id  precinct_id  \\\n",
            "0  3140929.0  1692612.0 -104.998910  39.733957           1          123   \n",
            "1  3142470.0  1697098.0 -104.993342  39.746248           6          611   \n",
            "2  3133352.0  1710396.0 -105.025520  39.782888           1          111   \n",
            "3  3133534.0  1685797.0 -105.025330  39.715357           4          411   \n",
            "4  3184065.0  1710782.0 -104.845074  39.783082           5          521   \n",
            "\n",
            "  neighborhood_id  is_crime  is_traffic  victim_count  \n",
            "0    lincoln-park         1           0             1  \n",
            "1             cbd         1           0             1  \n",
            "2        berkeley         1           0             1  \n",
            "3          barnum         1           0             1  \n",
            "4       montbello         1           0             1  \n"
          ]
        }
      ]
    },
    {
      "cell_type": "code",
      "source": [],
      "metadata": {
        "id": "79D75Q0GRciI"
      },
      "execution_count": null,
      "outputs": []
    }
  ]
}