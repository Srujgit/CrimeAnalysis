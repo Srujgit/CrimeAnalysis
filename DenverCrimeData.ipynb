{
  "nbformat": 4,
  "nbformat_minor": 0,
  "metadata": {
    "colab": {
      "provenance": [],
      "mount_file_id": "https://github.com/Srujgit/CrimeAnalysis/blob/main/DenverCrimeData.ipynb",
      "authorship_tag": "ABX9TyOKpJquZdpOWOaI98hDkxU3",
      "include_colab_link": true
    },
    "kernelspec": {
      "name": "python3",
      "display_name": "Python 3"
    },
    "language_info": {
      "name": "python"
    }
  },
  "cells": [
    {
      "cell_type": "markdown",
      "metadata": {
        "id": "view-in-github",
        "colab_type": "text"
      },
      "source": [
        "<a href=\"https://colab.research.google.com/github/Srujgit/CrimeAnalysis/blob/main/DenverCrimeData.ipynb\" target=\"_parent\"><img src=\"https://colab.research.google.com/assets/colab-badge.svg\" alt=\"Open In Colab\"/></a>"
      ]
    },
    {
      "cell_type": "code",
      "execution_count": 1,
      "metadata": {
        "id": "jdDfVpx3upAM"
      },
      "outputs": [],
      "source": [
        "import numpy as np\n",
        "import matplotlib\n",
        "import pandas as pd\n",
        "\n"
      ]
    },
    {
      "cell_type": "code",
      "source": [
        "import pandas as pd\n",
        "#!file -bi crime_denver.csv\n",
        "filepath=\"/content/drive/MyDrive/CrimeAnalysis/DenverCrimeData/crime.csv\"\n",
        "\n",
        "df = pd.read_csv(filepath, encoding='ISO-8859-1')\n",
        "\n",
        "\n",
        "# Print the DataFrame\n",
        "print(df.head())\n"
      ],
      "metadata": {
        "id": "t9OmNy0KREAB",
        "outputId": "89371ade-39de-4ebf-82bd-b6239b5034cf",
        "colab": {
          "base_uri": "https://localhost:8080/"
        }
      },
      "execution_count": 2,
      "outputs": [
        {
          "output_type": "stream",
          "name": "stdout",
          "text": [
            "   incident_id        offense_id  offense_code  offense_code_extension  \\\n",
            "0    202268791   202268791299900          2999                       0   \n",
            "1   2021387586  2021387586299900          2999                       0   \n",
            "2   2020641486  2020641486299900          2999                       0   \n",
            "3   2018612468  2018612468299900          2999                       0   \n",
            "4   2020293614  2020293614299900          2999                       0   \n",
            "\n",
            "           offense_type_id offense_category_id  first_occurrence_date  \\\n",
            "0  criminal-mischief-other     public-disorder   2/10/2022 2:50:00 AM   \n",
            "1  criminal-mischief-other     public-disorder    7/7/2021 9:02:00 PM   \n",
            "2  criminal-mischief-other     public-disorder  10/29/2020 1:30:00 AM   \n",
            "3  criminal-mischief-other     public-disorder    9/6/2018 5:00:00 PM   \n",
            "4  criminal-mischief-other     public-disorder    5/8/2020 5:00:00 AM   \n",
            "\n",
            "   last_occurrence_date          reported_date     incident_address  \\\n",
            "0                   NaN   2/10/2022 3:16:00 AM   1107 N SANTA FE DR   \n",
            "1                   NaN   7/8/2021 12:55:00 AM          815 16TH ST   \n",
            "2                   NaN  10/29/2020 4:31:00 AM  4745 N FEDERAL BLVD   \n",
            "3  9/6/2018 11:00:00 PM    9/7/2018 9:58:00 AM    65 S FEDERAL BLVD   \n",
            "4   5/8/2020 6:30:00 PM  5/13/2020 10:00:00 AM   12295 E ALBROOK DR   \n",
            "\n",
            "       geo_x      geo_y     geo_lon    geo_lat district_id  precinct_id  \\\n",
            "0  3140929.0  1692612.0 -104.998910  39.733957           1          123   \n",
            "1  3142470.0  1697098.0 -104.993342  39.746248           6          611   \n",
            "2  3133352.0  1710396.0 -105.025520  39.782888           1          111   \n",
            "3  3133534.0  1685797.0 -105.025330  39.715357           4          411   \n",
            "4  3184065.0  1710782.0 -104.845074  39.783082           5          521   \n",
            "\n",
            "  neighborhood_id  is_crime  is_traffic  victim_count  \n",
            "0    lincoln-park         1           0             1  \n",
            "1             cbd         1           0             1  \n",
            "2        berkeley         1           0             1  \n",
            "3          barnum         1           0             1  \n",
            "4       montbello         1           0             1  \n"
          ]
        }
      ]
    },
    {
      "cell_type": "code",
      "source": [
        "column_names = df.columns.tolist()\n",
        "print(column_names)"
      ],
      "metadata": {
        "colab": {
          "base_uri": "https://localhost:8080/"
        },
        "id": "wGAdmWCkPD8b",
        "outputId": "4f6fe51e-b89d-4435-de7f-61b82ee34bb7"
      },
      "execution_count": 3,
      "outputs": [
        {
          "output_type": "stream",
          "name": "stdout",
          "text": [
            "['incident_id', 'offense_id', 'offense_code', 'offense_code_extension', 'offense_type_id', 'offense_category_id', 'first_occurrence_date', 'last_occurrence_date', 'reported_date', 'incident_address', 'geo_x', 'geo_y', 'geo_lon', 'geo_lat', 'district_id', 'precinct_id', 'neighborhood_id', 'is_crime', 'is_traffic', 'victim_count']\n"
          ]
        }
      ]
    },
    {
      "cell_type": "code",
      "source": [],
      "metadata": {
        "id": "iiMvdFt87fXP"
      },
      "execution_count": 3,
      "outputs": []
    },
    {
      "cell_type": "markdown",
      "source": [
        "columns_to_drop = ['offense_code','offense_type_id', 'offense_category_id', 'first_occurrence_date', 'last_occurrence_date', 'reported_date', 'geo_x', 'geo_y', 'district_id', 'is_traffic', 'victim_count']  # List of column names to drop\n",
        "df = df.drop(columns_to_drop,  axis=1)"
      ],
      "metadata": {
        "id": "iBA_gQNGPPi3"
      }
    },
    {
      "cell_type": "code",
      "source": [
        "# Assuming df is your DataFrame\n",
        "print(df.columns)\n",
        "#columns_to_drop = ['incident_id','offense_code']  # List of column names to drop\n",
        "df = df.drop(['offense_type_id', 'offense_category_id','first_occurrence_date','last_occurrence_date', 'is_traffic','victim_count', 'incident_address', 'geo_x', 'geo_y', 'is_crime'], axis=1)\n"
      ],
      "metadata": {
        "colab": {
          "base_uri": "https://localhost:8080/"
        },
        "id": "dCkRSQv9OJwB",
        "outputId": "c7f53499-3f81-4749-d5c6-727f5302c99b"
      },
      "execution_count": 4,
      "outputs": [
        {
          "output_type": "stream",
          "name": "stdout",
          "text": [
            "Index(['incident_id', 'offense_id', 'offense_code', 'offense_code_extension',\n",
            "       'offense_type_id', 'offense_category_id', 'first_occurrence_date',\n",
            "       'last_occurrence_date', 'reported_date', 'incident_address', 'geo_x',\n",
            "       'geo_y', 'geo_lon', 'geo_lat', 'district_id', 'precinct_id',\n",
            "       'neighborhood_id', 'is_crime', 'is_traffic', 'victim_count'],\n",
            "      dtype='object')\n"
          ]
        }
      ]
    },
    {
      "cell_type": "code",
      "source": [
        "fin_column_names= df.columns.tolist()\n",
        "print(fin_column_names)"
      ],
      "metadata": {
        "colab": {
          "base_uri": "https://localhost:8080/"
        },
        "id": "hrT5hIiihA2D",
        "outputId": "9beabe89-54f2-4c0b-e8ca-7f14818a5813"
      },
      "execution_count": 5,
      "outputs": [
        {
          "output_type": "stream",
          "name": "stdout",
          "text": [
            "['incident_id', 'offense_id', 'offense_code', 'offense_code_extension', 'reported_date', 'geo_lon', 'geo_lat', 'district_id', 'precinct_id', 'neighborhood_id']\n"
          ]
        }
      ]
    },
    {
      "cell_type": "code",
      "source": [
        "print(df.head())"
      ],
      "metadata": {
        "colab": {
          "base_uri": "https://localhost:8080/"
        },
        "id": "37CqERoVcWY6",
        "outputId": "df340149-1ca7-49b1-936b-cf8cdc9c74f9"
      },
      "execution_count": 6,
      "outputs": [
        {
          "output_type": "stream",
          "name": "stdout",
          "text": [
            "   incident_id        offense_id  offense_code  offense_code_extension  \\\n",
            "0    202268791   202268791299900          2999                       0   \n",
            "1   2021387586  2021387586299900          2999                       0   \n",
            "2   2020641486  2020641486299900          2999                       0   \n",
            "3   2018612468  2018612468299900          2999                       0   \n",
            "4   2020293614  2020293614299900          2999                       0   \n",
            "\n",
            "           reported_date     geo_lon    geo_lat district_id  precinct_id  \\\n",
            "0   2/10/2022 3:16:00 AM -104.998910  39.733957           1          123   \n",
            "1   7/8/2021 12:55:00 AM -104.993342  39.746248           6          611   \n",
            "2  10/29/2020 4:31:00 AM -105.025520  39.782888           1          111   \n",
            "3    9/7/2018 9:58:00 AM -105.025330  39.715357           4          411   \n",
            "4  5/13/2020 10:00:00 AM -104.845074  39.783082           5          521   \n",
            "\n",
            "  neighborhood_id  \n",
            "0    lincoln-park  \n",
            "1             cbd  \n",
            "2        berkeley  \n",
            "3          barnum  \n",
            "4       montbello  \n"
          ]
        }
      ]
    },
    {
      "cell_type": "code",
      "source": [
        "# Assuming df is your DataFrame and 'column_name' is the name of the column\n",
        "unique_values = df['neighborhood_id'].unique()\n",
        "print(len(unique_values))\n"
      ],
      "metadata": {
        "colab": {
          "base_uri": "https://localhost:8080/"
        },
        "id": "Q3w2RcXEd7Rb",
        "outputId": "284c8169-0e8c-48c3-e2af-059e4af49e4d"
      },
      "execution_count": 7,
      "outputs": [
        {
          "output_type": "stream",
          "name": "stdout",
          "text": [
            "79\n"
          ]
        }
      ]
    },
    {
      "cell_type": "markdown",
      "source": [
        "It can be seen that neighborhood_id has 79 unique values. In the next step we will be encoding it to numeric values"
      ],
      "metadata": {
        "id": "V9y1kC3WiVYU"
      }
    },
    {
      "cell_type": "code",
      "source": [
        "from sklearn.preprocessing import LabelEncoder\n",
        "\n",
        "# Assuming df is your DataFrame and 'column_name' is the name of the column\n",
        "label_encoder = LabelEncoder()\n",
        "encoded_values = label_encoder.fit_transform(df['neighborhood_id'])\n",
        "\n",
        "encoded_df = pd.DataFrame({\n",
        "    'Original': df['neighborhood_id'],\n",
        "    'Encoded': encoded_values\n",
        "})\n",
        "\n",
        "# Drop duplicate rows to avoid repeating entries for the same string\n",
        "encoded_df.drop_duplicates(inplace=True)\n",
        "\n",
        "# Sort the DataFrame by the encoded values for better readability\n",
        "encoded_df.sort_values(by='Encoded', inplace=True)\n",
        "\n",
        "# Display the DataFrame\n",
        "print(encoded_df)\n"
      ],
      "metadata": {
        "colab": {
          "base_uri": "https://localhost:8080/"
        },
        "id": "ZRRgxHwnfR3F",
        "outputId": "30a17067-8e90-4f43-8e55-d993dffea7f4"
      },
      "execution_count": 8,
      "outputs": [
        {
          "output_type": "stream",
          "name": "stdout",
          "text": [
            "           Original  Encoded\n",
            "18      athmar-park        0\n",
            "324         auraria        1\n",
            "40            baker        2\n",
            "3            barnum        3\n",
            "10      barnum-west        4\n",
            "...             ...      ...\n",
            "52    west-highland       74\n",
            "33         westwood       75\n",
            "9          whittier       76\n",
            "351         windsor       77\n",
            "1296            NaN       78\n",
            "\n",
            "[79 rows x 2 columns]\n"
          ]
        }
      ]
    },
    {
      "cell_type": "code",
      "source": [
        "df['neighborhood_id'] = encoded_values\n",
        "df.head()"
      ],
      "metadata": {
        "colab": {
          "base_uri": "https://localhost:8080/",
          "height": 293
        },
        "id": "nDM8UN4Sfcul",
        "outputId": "d8c0602f-301c-42bc-d074-4cfea8a6a696"
      },
      "execution_count": 9,
      "outputs": [
        {
          "output_type": "execute_result",
          "data": {
            "text/plain": [
              "   incident_id        offense_id  offense_code  offense_code_extension  \\\n",
              "0    202268791   202268791299900          2999                       0   \n",
              "1   2021387586  2021387586299900          2999                       0   \n",
              "2   2020641486  2020641486299900          2999                       0   \n",
              "3   2018612468  2018612468299900          2999                       0   \n",
              "4   2020293614  2020293614299900          2999                       0   \n",
              "\n",
              "           reported_date     geo_lon    geo_lat district_id  precinct_id  \\\n",
              "0   2/10/2022 3:16:00 AM -104.998910  39.733957           1          123   \n",
              "1   7/8/2021 12:55:00 AM -104.993342  39.746248           6          611   \n",
              "2  10/29/2020 4:31:00 AM -105.025520  39.782888           1          111   \n",
              "3    9/7/2018 9:58:00 AM -105.025330  39.715357           4          411   \n",
              "4  5/13/2020 10:00:00 AM -104.845074  39.783082           5          521   \n",
              "\n",
              "   neighborhood_id  \n",
              "0               41  \n",
              "1                9  \n",
              "2                7  \n",
              "3                3  \n",
              "4               45  "
            ],
            "text/html": [
              "\n",
              "  <div id=\"df-75b9d704-f4cb-4480-b917-73bbd7b8075a\" class=\"colab-df-container\">\n",
              "    <div>\n",
              "<style scoped>\n",
              "    .dataframe tbody tr th:only-of-type {\n",
              "        vertical-align: middle;\n",
              "    }\n",
              "\n",
              "    .dataframe tbody tr th {\n",
              "        vertical-align: top;\n",
              "    }\n",
              "\n",
              "    .dataframe thead th {\n",
              "        text-align: right;\n",
              "    }\n",
              "</style>\n",
              "<table border=\"1\" class=\"dataframe\">\n",
              "  <thead>\n",
              "    <tr style=\"text-align: right;\">\n",
              "      <th></th>\n",
              "      <th>incident_id</th>\n",
              "      <th>offense_id</th>\n",
              "      <th>offense_code</th>\n",
              "      <th>offense_code_extension</th>\n",
              "      <th>reported_date</th>\n",
              "      <th>geo_lon</th>\n",
              "      <th>geo_lat</th>\n",
              "      <th>district_id</th>\n",
              "      <th>precinct_id</th>\n",
              "      <th>neighborhood_id</th>\n",
              "    </tr>\n",
              "  </thead>\n",
              "  <tbody>\n",
              "    <tr>\n",
              "      <th>0</th>\n",
              "      <td>202268791</td>\n",
              "      <td>202268791299900</td>\n",
              "      <td>2999</td>\n",
              "      <td>0</td>\n",
              "      <td>2/10/2022 3:16:00 AM</td>\n",
              "      <td>-104.998910</td>\n",
              "      <td>39.733957</td>\n",
              "      <td>1</td>\n",
              "      <td>123</td>\n",
              "      <td>41</td>\n",
              "    </tr>\n",
              "    <tr>\n",
              "      <th>1</th>\n",
              "      <td>2021387586</td>\n",
              "      <td>2021387586299900</td>\n",
              "      <td>2999</td>\n",
              "      <td>0</td>\n",
              "      <td>7/8/2021 12:55:00 AM</td>\n",
              "      <td>-104.993342</td>\n",
              "      <td>39.746248</td>\n",
              "      <td>6</td>\n",
              "      <td>611</td>\n",
              "      <td>9</td>\n",
              "    </tr>\n",
              "    <tr>\n",
              "      <th>2</th>\n",
              "      <td>2020641486</td>\n",
              "      <td>2020641486299900</td>\n",
              "      <td>2999</td>\n",
              "      <td>0</td>\n",
              "      <td>10/29/2020 4:31:00 AM</td>\n",
              "      <td>-105.025520</td>\n",
              "      <td>39.782888</td>\n",
              "      <td>1</td>\n",
              "      <td>111</td>\n",
              "      <td>7</td>\n",
              "    </tr>\n",
              "    <tr>\n",
              "      <th>3</th>\n",
              "      <td>2018612468</td>\n",
              "      <td>2018612468299900</td>\n",
              "      <td>2999</td>\n",
              "      <td>0</td>\n",
              "      <td>9/7/2018 9:58:00 AM</td>\n",
              "      <td>-105.025330</td>\n",
              "      <td>39.715357</td>\n",
              "      <td>4</td>\n",
              "      <td>411</td>\n",
              "      <td>3</td>\n",
              "    </tr>\n",
              "    <tr>\n",
              "      <th>4</th>\n",
              "      <td>2020293614</td>\n",
              "      <td>2020293614299900</td>\n",
              "      <td>2999</td>\n",
              "      <td>0</td>\n",
              "      <td>5/13/2020 10:00:00 AM</td>\n",
              "      <td>-104.845074</td>\n",
              "      <td>39.783082</td>\n",
              "      <td>5</td>\n",
              "      <td>521</td>\n",
              "      <td>45</td>\n",
              "    </tr>\n",
              "  </tbody>\n",
              "</table>\n",
              "</div>\n",
              "    <div class=\"colab-df-buttons\">\n",
              "\n",
              "  <div class=\"colab-df-container\">\n",
              "    <button class=\"colab-df-convert\" onclick=\"convertToInteractive('df-75b9d704-f4cb-4480-b917-73bbd7b8075a')\"\n",
              "            title=\"Convert this dataframe to an interactive table.\"\n",
              "            style=\"display:none;\">\n",
              "\n",
              "  <svg xmlns=\"http://www.w3.org/2000/svg\" height=\"24px\" viewBox=\"0 -960 960 960\">\n",
              "    <path d=\"M120-120v-720h720v720H120Zm60-500h600v-160H180v160Zm220 220h160v-160H400v160Zm0 220h160v-160H400v160ZM180-400h160v-160H180v160Zm440 0h160v-160H620v160ZM180-180h160v-160H180v160Zm440 0h160v-160H620v160Z\"/>\n",
              "  </svg>\n",
              "    </button>\n",
              "\n",
              "  <style>\n",
              "    .colab-df-container {\n",
              "      display:flex;\n",
              "      gap: 12px;\n",
              "    }\n",
              "\n",
              "    .colab-df-convert {\n",
              "      background-color: #E8F0FE;\n",
              "      border: none;\n",
              "      border-radius: 50%;\n",
              "      cursor: pointer;\n",
              "      display: none;\n",
              "      fill: #1967D2;\n",
              "      height: 32px;\n",
              "      padding: 0 0 0 0;\n",
              "      width: 32px;\n",
              "    }\n",
              "\n",
              "    .colab-df-convert:hover {\n",
              "      background-color: #E2EBFA;\n",
              "      box-shadow: 0px 1px 2px rgba(60, 64, 67, 0.3), 0px 1px 3px 1px rgba(60, 64, 67, 0.15);\n",
              "      fill: #174EA6;\n",
              "    }\n",
              "\n",
              "    .colab-df-buttons div {\n",
              "      margin-bottom: 4px;\n",
              "    }\n",
              "\n",
              "    [theme=dark] .colab-df-convert {\n",
              "      background-color: #3B4455;\n",
              "      fill: #D2E3FC;\n",
              "    }\n",
              "\n",
              "    [theme=dark] .colab-df-convert:hover {\n",
              "      background-color: #434B5C;\n",
              "      box-shadow: 0px 1px 3px 1px rgba(0, 0, 0, 0.15);\n",
              "      filter: drop-shadow(0px 1px 2px rgba(0, 0, 0, 0.3));\n",
              "      fill: #FFFFFF;\n",
              "    }\n",
              "  </style>\n",
              "\n",
              "    <script>\n",
              "      const buttonEl =\n",
              "        document.querySelector('#df-75b9d704-f4cb-4480-b917-73bbd7b8075a button.colab-df-convert');\n",
              "      buttonEl.style.display =\n",
              "        google.colab.kernel.accessAllowed ? 'block' : 'none';\n",
              "\n",
              "      async function convertToInteractive(key) {\n",
              "        const element = document.querySelector('#df-75b9d704-f4cb-4480-b917-73bbd7b8075a');\n",
              "        const dataTable =\n",
              "          await google.colab.kernel.invokeFunction('convertToInteractive',\n",
              "                                                    [key], {});\n",
              "        if (!dataTable) return;\n",
              "\n",
              "        const docLinkHtml = 'Like what you see? Visit the ' +\n",
              "          '<a target=\"_blank\" href=https://colab.research.google.com/notebooks/data_table.ipynb>data table notebook</a>'\n",
              "          + ' to learn more about interactive tables.';\n",
              "        element.innerHTML = '';\n",
              "        dataTable['output_type'] = 'display_data';\n",
              "        await google.colab.output.renderOutput(dataTable, element);\n",
              "        const docLink = document.createElement('div');\n",
              "        docLink.innerHTML = docLinkHtml;\n",
              "        element.appendChild(docLink);\n",
              "      }\n",
              "    </script>\n",
              "  </div>\n",
              "\n",
              "\n",
              "<div id=\"df-59009cd5-01c6-444a-940e-1a1bea786606\">\n",
              "  <button class=\"colab-df-quickchart\" onclick=\"quickchart('df-59009cd5-01c6-444a-940e-1a1bea786606')\"\n",
              "            title=\"Suggest charts\"\n",
              "            style=\"display:none;\">\n",
              "\n",
              "<svg xmlns=\"http://www.w3.org/2000/svg\" height=\"24px\"viewBox=\"0 0 24 24\"\n",
              "     width=\"24px\">\n",
              "    <g>\n",
              "        <path d=\"M19 3H5c-1.1 0-2 .9-2 2v14c0 1.1.9 2 2 2h14c1.1 0 2-.9 2-2V5c0-1.1-.9-2-2-2zM9 17H7v-7h2v7zm4 0h-2V7h2v10zm4 0h-2v-4h2v4z\"/>\n",
              "    </g>\n",
              "</svg>\n",
              "  </button>\n",
              "\n",
              "<style>\n",
              "  .colab-df-quickchart {\n",
              "      --bg-color: #E8F0FE;\n",
              "      --fill-color: #1967D2;\n",
              "      --hover-bg-color: #E2EBFA;\n",
              "      --hover-fill-color: #174EA6;\n",
              "      --disabled-fill-color: #AAA;\n",
              "      --disabled-bg-color: #DDD;\n",
              "  }\n",
              "\n",
              "  [theme=dark] .colab-df-quickchart {\n",
              "      --bg-color: #3B4455;\n",
              "      --fill-color: #D2E3FC;\n",
              "      --hover-bg-color: #434B5C;\n",
              "      --hover-fill-color: #FFFFFF;\n",
              "      --disabled-bg-color: #3B4455;\n",
              "      --disabled-fill-color: #666;\n",
              "  }\n",
              "\n",
              "  .colab-df-quickchart {\n",
              "    background-color: var(--bg-color);\n",
              "    border: none;\n",
              "    border-radius: 50%;\n",
              "    cursor: pointer;\n",
              "    display: none;\n",
              "    fill: var(--fill-color);\n",
              "    height: 32px;\n",
              "    padding: 0;\n",
              "    width: 32px;\n",
              "  }\n",
              "\n",
              "  .colab-df-quickchart:hover {\n",
              "    background-color: var(--hover-bg-color);\n",
              "    box-shadow: 0 1px 2px rgba(60, 64, 67, 0.3), 0 1px 3px 1px rgba(60, 64, 67, 0.15);\n",
              "    fill: var(--button-hover-fill-color);\n",
              "  }\n",
              "\n",
              "  .colab-df-quickchart-complete:disabled,\n",
              "  .colab-df-quickchart-complete:disabled:hover {\n",
              "    background-color: var(--disabled-bg-color);\n",
              "    fill: var(--disabled-fill-color);\n",
              "    box-shadow: none;\n",
              "  }\n",
              "\n",
              "  .colab-df-spinner {\n",
              "    border: 2px solid var(--fill-color);\n",
              "    border-color: transparent;\n",
              "    border-bottom-color: var(--fill-color);\n",
              "    animation:\n",
              "      spin 1s steps(1) infinite;\n",
              "  }\n",
              "\n",
              "  @keyframes spin {\n",
              "    0% {\n",
              "      border-color: transparent;\n",
              "      border-bottom-color: var(--fill-color);\n",
              "      border-left-color: var(--fill-color);\n",
              "    }\n",
              "    20% {\n",
              "      border-color: transparent;\n",
              "      border-left-color: var(--fill-color);\n",
              "      border-top-color: var(--fill-color);\n",
              "    }\n",
              "    30% {\n",
              "      border-color: transparent;\n",
              "      border-left-color: var(--fill-color);\n",
              "      border-top-color: var(--fill-color);\n",
              "      border-right-color: var(--fill-color);\n",
              "    }\n",
              "    40% {\n",
              "      border-color: transparent;\n",
              "      border-right-color: var(--fill-color);\n",
              "      border-top-color: var(--fill-color);\n",
              "    }\n",
              "    60% {\n",
              "      border-color: transparent;\n",
              "      border-right-color: var(--fill-color);\n",
              "    }\n",
              "    80% {\n",
              "      border-color: transparent;\n",
              "      border-right-color: var(--fill-color);\n",
              "      border-bottom-color: var(--fill-color);\n",
              "    }\n",
              "    90% {\n",
              "      border-color: transparent;\n",
              "      border-bottom-color: var(--fill-color);\n",
              "    }\n",
              "  }\n",
              "</style>\n",
              "\n",
              "  <script>\n",
              "    async function quickchart(key) {\n",
              "      const quickchartButtonEl =\n",
              "        document.querySelector('#' + key + ' button');\n",
              "      quickchartButtonEl.disabled = true;  // To prevent multiple clicks.\n",
              "      quickchartButtonEl.classList.add('colab-df-spinner');\n",
              "      try {\n",
              "        const charts = await google.colab.kernel.invokeFunction(\n",
              "            'suggestCharts', [key], {});\n",
              "      } catch (error) {\n",
              "        console.error('Error during call to suggestCharts:', error);\n",
              "      }\n",
              "      quickchartButtonEl.classList.remove('colab-df-spinner');\n",
              "      quickchartButtonEl.classList.add('colab-df-quickchart-complete');\n",
              "    }\n",
              "    (() => {\n",
              "      let quickchartButtonEl =\n",
              "        document.querySelector('#df-59009cd5-01c6-444a-940e-1a1bea786606 button');\n",
              "      quickchartButtonEl.style.display =\n",
              "        google.colab.kernel.accessAllowed ? 'block' : 'none';\n",
              "    })();\n",
              "  </script>\n",
              "</div>\n",
              "\n",
              "    </div>\n",
              "  </div>\n"
            ],
            "application/vnd.google.colaboratory.intrinsic+json": {
              "type": "dataframe",
              "variable_name": "df"
            }
          },
          "metadata": {},
          "execution_count": 9
        }
      ]
    },
    {
      "cell_type": "code",
      "source": [
        "import pandas as pd\n",
        "\n",
        "# Assuming your dataset is stored in a Pandas DataFrame named 'df'\n",
        "# and the time column is named 'time_column'\n",
        "\n",
        "# Convert the time column to a numerical format\n",
        "df['time_numerical'] = pd.to_datetime(df['reported_date'], format=\"%m/%d/%Y %I:%M:%S %p\").astype(int) // 10 ** 9\n",
        "\n",
        "# Replace the original time column with the numerical format\n",
        "df['reported_date'] = df['time_numerical']\n",
        "\n",
        "# Drop the temporary 'time_numerical' column if needed\n",
        "df = df.drop('time_numerical', axis=1)\n",
        "\n",
        "# Display the first few rows of the DataFrame\n",
        "print(df.head())"
      ],
      "metadata": {
        "colab": {
          "base_uri": "https://localhost:8080/"
        },
        "id": "tap_QZEU54c8",
        "outputId": "5ad76352-654b-4644-b0f7-f5a0d2df4e02"
      },
      "execution_count": 10,
      "outputs": [
        {
          "output_type": "stream",
          "name": "stdout",
          "text": [
            "   incident_id        offense_id  offense_code  offense_code_extension  \\\n",
            "0    202268791   202268791299900          2999                       0   \n",
            "1   2021387586  2021387586299900          2999                       0   \n",
            "2   2020641486  2020641486299900          2999                       0   \n",
            "3   2018612468  2018612468299900          2999                       0   \n",
            "4   2020293614  2020293614299900          2999                       0   \n",
            "\n",
            "   reported_date     geo_lon    geo_lat district_id  precinct_id  \\\n",
            "0     1644462960 -104.998910  39.733957           1          123   \n",
            "1     1625705700 -104.993342  39.746248           6          611   \n",
            "2     1603945860 -105.025520  39.782888           1          111   \n",
            "3     1536314280 -105.025330  39.715357           4          411   \n",
            "4     1589364000 -104.845074  39.783082           5          521   \n",
            "\n",
            "   neighborhood_id  \n",
            "0               41  \n",
            "1                9  \n",
            "2                7  \n",
            "3                3  \n",
            "4               45  \n"
          ]
        }
      ]
    },
    {
      "cell_type": "code",
      "source": [
        "df[\"reported_date\"].isna().sum()"
      ],
      "metadata": {
        "colab": {
          "base_uri": "https://localhost:8080/"
        },
        "id": "SO_bMMaD6XgM",
        "outputId": "3c070fab-b1d2-4b61-82ed-de50acac3257"
      },
      "execution_count": 11,
      "outputs": [
        {
          "output_type": "execute_result",
          "data": {
            "text/plain": [
              "0"
            ]
          },
          "metadata": {},
          "execution_count": 11
        }
      ]
    },
    {
      "cell_type": "code",
      "source": [
        "# Assuming df is your DataFrame and 'column_name' is the name of the column\n",
        "df.replace('', pd.NA, inplace=True)\n",
        "import pandas as pd\n",
        "import numpy as np\n",
        "\n",
        "print(\"number of missing values in each column before imputation\")\n",
        "\n",
        "# Assuming your dataframe is named 'df'\n",
        "for column in df.columns:\n",
        "    df[column] = pd.to_numeric(df[column], errors='coerce')\n",
        "    print(df[column].isna().sum(), column)\n"
      ],
      "metadata": {
        "colab": {
          "base_uri": "https://localhost:8080/"
        },
        "id": "AIOYZJzsf_LF",
        "outputId": "82fefe9a-13b7-4982-bb36-627359a730a5"
      },
      "execution_count": 12,
      "outputs": [
        {
          "output_type": "stream",
          "name": "stdout",
          "text": [
            "number of missing values in each column before imputation\n",
            "0 incident_id\n",
            "0 offense_id\n",
            "0 offense_code\n",
            "0 offense_code_extension\n",
            "0 reported_date\n",
            "15769 geo_lon\n",
            "15769 geo_lat\n",
            "525 district_id\n",
            "0 precinct_id\n",
            "0 neighborhood_id\n"
          ]
        }
      ]
    },
    {
      "cell_type": "markdown",
      "source": [
        "we can see that the date time format has to be converted into numerical format\n"
      ],
      "metadata": {
        "id": "W3ElvIR33LD-"
      }
    },
    {
      "cell_type": "markdown",
      "source": [
        "It can be seen that geo_lon, geo_lat and district_id have multiple missing values\n"
      ],
      "metadata": {
        "id": "7mzhGhzmiHm-"
      }
    },
    {
      "cell_type": "code",
      "source": [
        "# Interpolate missing values\n",
        "#df['geo_lon'] = df['geo_lon'].interpolate()\n",
        "#df['geo_lat'] = df['geo_lat'].interpolate()\n",
        "\n",
        "#df['district_id'] = df['district_id'].fillna(df['district_id'].median())\n",
        "\n",
        "df['geo_lat'] = df['geo_lat'].fillna(df['geo_lat'].median())\n",
        "df['geo_lon'] = df['geo_lon'].fillna(df['geo_lon'].median())\n",
        "\n",
        "print(\"number of missing values in each column\")\n",
        "\n",
        "for column in df.columns:\n",
        "    print(df[column].isna().sum(), column)\n"
      ],
      "metadata": {
        "colab": {
          "base_uri": "https://localhost:8080/"
        },
        "id": "bwN0yqYaiRbw",
        "outputId": "0d523571-416e-488f-8bc4-6c1a8ce120a2"
      },
      "execution_count": 13,
      "outputs": [
        {
          "output_type": "stream",
          "name": "stdout",
          "text": [
            "number of missing values in each column\n",
            "0 incident_id\n",
            "0 offense_id\n",
            "0 offense_code\n",
            "0 offense_code_extension\n",
            "0 reported_date\n",
            "0 geo_lon\n",
            "0 geo_lat\n",
            "525 district_id\n",
            "0 precinct_id\n",
            "0 neighborhood_id\n"
          ]
        }
      ]
    },
    {
      "cell_type": "markdown",
      "source": [
        "imputing district values"
      ],
      "metadata": {
        "id": "Jh9f_x09HEZr"
      }
    },
    {
      "cell_type": "code",
      "source": [
        "import pandas as pd\n",
        "from sklearn.experimental import enable_iterative_imputer\n",
        "from sklearn.impute import IterativeImputer\n",
        "from sklearn.linear_model import LinearRegression\n",
        "\n",
        "# Create the imputer and impute the missing district_id values\n",
        "imputer = IterativeImputer(estimator=LinearRegression(), random_state=42, missing_values=np.nan)\n",
        "df['district_id'] = imputer.fit_transform(df[['district_id']])\n",
        "\n",
        "print(df)\n",
        "for column in df.columns:\n",
        "    print(df[column].isna().sum(), column)\n"
      ],
      "metadata": {
        "colab": {
          "base_uri": "https://localhost:8080/"
        },
        "id": "w3yO93NA7wma",
        "outputId": "e1afb581-4363-496a-fac8-eaa13e1fafdd"
      },
      "execution_count": 14,
      "outputs": [
        {
          "output_type": "stream",
          "name": "stdout",
          "text": [
            "        incident_id        offense_id  offense_code  offense_code_extension  \\\n",
            "0         202268791   202268791299900          2999                       0   \n",
            "1        2021387586  2021387586299900          2999                       0   \n",
            "2        2020641486  2020641486299900          2999                       0   \n",
            "3        2018612468  2018612468299900          2999                       0   \n",
            "4        2020293614  2020293614299900          2999                       0   \n",
            "...             ...               ...           ...                     ...   \n",
            "386860   2023534182  2023534182240400          2404                       0   \n",
            "386861   2023534279  2023534279260900          2609                       0   \n",
            "386862   2023533509  2023533509131506          1315                       6   \n",
            "386863   2023533048  2023533048131506          1315                       6   \n",
            "386864   2023532323  2023532323131506          1315                       6   \n",
            "\n",
            "        reported_date     geo_lon    geo_lat  district_id  precinct_id  \\\n",
            "0          1644462960 -104.998910  39.733957          1.0          123   \n",
            "1          1625705700 -104.993342  39.746248          6.0          611   \n",
            "2          1603945860 -105.025520  39.782888          1.0          111   \n",
            "3          1536314280 -105.025330  39.715357          4.0          411   \n",
            "4          1589364000 -104.845074  39.783082          5.0          521   \n",
            "...               ...         ...        ...          ...          ...   \n",
            "386860     1696354800 -104.890099  39.712310          3.0          321   \n",
            "386861     1696358040 -104.981021  39.714843          3.0          311   \n",
            "386862     1696334580 -104.861343  39.795869          5.0          511   \n",
            "386863     1696326420 -104.883680  39.706214          3.0          321   \n",
            "386864     1696270560 -105.052966  39.735110          1.0          122   \n",
            "\n",
            "        neighborhood_id  \n",
            "0                    41  \n",
            "1                     9  \n",
            "2                     7  \n",
            "3                     3  \n",
            "4                    45  \n",
            "...                 ...  \n",
            "386860               42  \n",
            "386861               59  \n",
            "386862               45  \n",
            "386863               77  \n",
            "386864               73  \n",
            "\n",
            "[386865 rows x 10 columns]\n",
            "0 incident_id\n",
            "0 offense_id\n",
            "0 offense_code\n",
            "0 offense_code_extension\n",
            "0 reported_date\n",
            "0 geo_lon\n",
            "0 geo_lat\n",
            "0 district_id\n",
            "0 precinct_id\n",
            "0 neighborhood_id\n"
          ]
        }
      ]
    },
    {
      "cell_type": "code",
      "source": [
        "#print(df['geo_lat'].isna().sum())\n",
        "#if df.isna().sum()!=0:\n",
        "#df['geo_lat'] = df['geo_lat'].interpolate()\n",
        "\n",
        "\n",
        "print(df['geo_lat'].isna().sum())\n",
        "print(df.isna().sum())"
      ],
      "metadata": {
        "colab": {
          "base_uri": "https://localhost:8080/"
        },
        "id": "DMZgzlZTQog7",
        "outputId": "b97f624b-50b8-4f24-b372-3c67d845df3f"
      },
      "execution_count": 15,
      "outputs": [
        {
          "output_type": "stream",
          "name": "stdout",
          "text": [
            "0\n",
            "incident_id               0\n",
            "offense_id                0\n",
            "offense_code              0\n",
            "offense_code_extension    0\n",
            "reported_date             0\n",
            "geo_lon                   0\n",
            "geo_lat                   0\n",
            "district_id               0\n",
            "precinct_id               0\n",
            "neighborhood_id           0\n",
            "dtype: int64\n"
          ]
        }
      ]
    },
    {
      "cell_type": "code",
      "source": [
        "#df['geo_lat'] = df['geo_lat'].fillna(df['geo_lat'].median())\n",
        "#df['geo_lon'] = df['geo_lon'].fillna(df['geo_lon'].median())"
      ],
      "metadata": {
        "id": "74FE9aEJVe9y"
      },
      "execution_count": 16,
      "outputs": []
    },
    {
      "cell_type": "markdown",
      "source": [
        "#Training the model"
      ],
      "metadata": {
        "id": "bxQmsOnWK-E6"
      }
    },
    {
      "cell_type": "code",
      "source": [
        "from sklearn.tree import DecisionTreeRegressor\n",
        "from sklearn.svm import SVR\n",
        "from sklearn.metrics import mean_squared_error as mse\n",
        "from sklearn.model_selection import train_test_split"
      ],
      "metadata": {
        "id": "g0RPuPZ9KzA2"
      },
      "execution_count": 17,
      "outputs": []
    },
    {
      "cell_type": "code",
      "source": [
        "X = df[['incident_id', 'offense_id', 'offense_code', 'offense_code_extension', 'reported_date', 'geo_lon', 'geo_lat', 'district_id', 'neighborhood_id']]\n",
        "y = df['precinct_id']\n",
        "\n",
        "X_train, X_test, y_train, y_test = train_test_split(X, y, test_size = 0.2, shuffle = True)\n",
        "X_train, X_val, y_train, y_val = train_test_split(X_train, y_train, test_size = 0.1, shuffle = True)\n",
        "print(X_train,y_train)"
      ],
      "metadata": {
        "id": "gePLuQbLwAZs",
        "outputId": "ef167068-ef94-48f2-ff6a-5b7d0bcd666d",
        "colab": {
          "base_uri": "https://localhost:8080/"
        }
      },
      "execution_count": 18,
      "outputs": [
        {
          "output_type": "stream",
          "name": "stdout",
          "text": [
            "        incident_id         offense_id  offense_code  offense_code_extension  \\\n",
            "36260    2022461838   2022461838352000          3520                       0   \n",
            "37923    2020616292   2020616292353200          3532                       0   \n",
            "204913  20216011505  20216011505230500          2305                       0   \n",
            "241582  20226004793  20226004793239900          2399                       0   \n",
            "324187   2022640956   2022640956240400          2404                       0   \n",
            "...             ...                ...           ...                     ...   \n",
            "303599   2022437312   2022437312240400          2404                       0   \n",
            "30115   20206015948  20206015948299901          2999                       1   \n",
            "67307     202145895    202145895521300          5213                       0   \n",
            "131866   2022411038   2022411038131501          1315                       1   \n",
            "40806    2022112812   2022112812355000          3550                       0   \n",
            "\n",
            "        reported_date     geo_lon    geo_lat  district_id  neighborhood_id  \n",
            "36260      1662559980 -104.985210  39.750904          6.0               26  \n",
            "37923      1602773700 -105.041181  39.681030          4.0               34  \n",
            "204913     1621856220 -104.983887  39.679455          3.0               51  \n",
            "241582     1647517020 -104.896000  39.626438          3.0               33  \n",
            "324187     1671096000 -104.871308  39.784348          5.0               10  \n",
            "...               ...         ...        ...          ...              ...  \n",
            "303599     1661447700 -104.880503  39.697753          3.0               77  \n",
            "30115      1606739460 -104.983964  39.731726          6.0                8  \n",
            "67307      1611403620 -104.978137  39.676715          3.0               53  \n",
            "131866     1660238760 -104.979001  39.739995          3.0               32  \n",
            "40806      1646576400 -105.001101  39.753916          6.0               62  \n",
            "\n",
            "[278542 rows x 9 columns] 36260     621\n",
            "37923     421\n",
            "204913    313\n",
            "241582    324\n",
            "324187    511\n",
            "         ... \n",
            "303599    321\n",
            "30115     623\n",
            "67307     313\n",
            "131866    323\n",
            "40806     612\n",
            "Name: precinct_id, Length: 278542, dtype: int64\n"
          ]
        }
      ]
    },
    {
      "cell_type": "markdown",
      "source": [
        "Below model works well but doesnt tabke paramters idk how"
      ],
      "metadata": {
        "id": "UdbqQkAxVHld"
      }
    },
    {
      "cell_type": "code",
      "source": [
        "# import pandas as pd\n",
        "# from sklearn.model_selection import train_test_split\n",
        "# from sklearn.tree import DecisionTreeRegressor\n",
        "# from sklearn.linear_model import LinearRegression\n",
        "# from sklearn.ensemble import RandomForestRegressor\n",
        "# from xgboost import XGBRegressor\n",
        "# from lightgbm import LGBMRegressor\n",
        "# from sklearn.metrics import mean_squared_error, r2_score, mean_absolute_error\n",
        "# import matplotlib.pyplot as plt\n",
        "# import seaborn as sns\n",
        "\n",
        "# # Assuming df is your DataFrame and it's already loaded\n",
        "# # X = df[['incident_id', 'offense_id', 'offense_code', 'offense_code_extension', 'reported_date', 'geo_lon', 'geo_lat', 'district_id', 'neighborhood_id']]\n",
        "# # y = df['precinct_id']\n",
        "\n",
        "# # Split the data\n",
        "# X_train, X_test, y_train, y_test = train_test_split(X, y, test_size=0.2, shuffle=True)\n",
        "# X_train, X_val, y_train, y_val = train_test_split(X_train, y_train, test_size=0.1, shuffle=True)\n",
        "\n",
        "# # Define the models\n",
        "# models = {\n",
        "#     \"Decision Tree Regression\": DecisionTreeRegressor(),\n",
        "#     \"Linear Regression\": LinearRegression(),\n",
        "#     \"Random Forest Regressor\": RandomForestRegressor(),\n",
        "#     \"XGBoost Regressor\": XGBRegressor(),\n",
        "#     \"LightGBM Regressor\": LGBMRegressor()\n",
        "# }\n",
        "\n",
        "# # Function to train and evaluate a model\n",
        "# def train_and_evaluate(model, X_train, y_train, X_val, y_val, X_test, y_test):\n",
        "#     model.fit(X_train, y_train)\n",
        "#     val_pred = model.predict(X_val)\n",
        "#     test_pred = model.predict(X_test)\n",
        "\n",
        "#     val_mse = mean_squared_error(y_val, val_pred)\n",
        "#     test_mse = mean_squared_error(y_test, test_pred)\n",
        "#     val_rmse = mean_squared_error(y_val, val_pred, squared=False)\n",
        "#     test_rmse = mean_squared_error(y_test, test_pred, squared=False)\n",
        "#     val_mae = mean_absolute_error(y_val, val_pred)\n",
        "#     test_mae = mean_absolute_error(y_test, test_pred)\n",
        "#     val_r2 = r2_score(y_val, val_pred)\n",
        "#     test_r2 = r2_score(y_test, test_pred)\n",
        "\n",
        "#     print(f\"Model: {model.__class__.__name__}\")\n",
        "#     print(f\"Validation MSE: {val_mse}\")\n",
        "#     print(f\"Test MSE: {test_mse}\")\n",
        "#     print(f\"Validation RMSE: {val_rmse}\")\n",
        "#     print(f\"Test RMSE: {test_rmse}\")\n",
        "#     print(f\"Validation MAE: {val_mae}\")\n",
        "#     print(f\"Test MAE: {test_mae}\")\n",
        "#     print(f\"Validation R2 Score: {val_r2}\")\n",
        "#     print(f\"Test R2 Score: {test_r2}\")\n",
        "\n",
        "\n",
        "# # Train and evaluate each model\n",
        "# for name, model in models.items():\n",
        "#     train_and_evaluate(model, X_train, y_train, X_val, y_val, X_test, y_test)\n"
      ],
      "metadata": {
        "id": "STylJswFF42O"
      },
      "execution_count": 19,
      "outputs": []
    },
    {
      "cell_type": "code",
      "source": [
        "from sklearn.model_selection import GridSearchCV\n",
        "from sklearn.tree import DecisionTreeRegressor\n",
        "from sklearn.metrics import mean_squared_error as mse\n",
        "from sklearn.metrics import mean_absolute_error as mae\n",
        "\n",
        "import pandas as pd\n",
        "\n",
        "list_mse={}\n",
        "list_mae={}\n",
        "\n",
        "# Assuming X_train, y_train are your training data\n",
        "\n",
        "# Define the parameter grid\n",
        "# param_grid = {\n",
        "#     'criterion': ['absolute_error'],\n",
        "#     'max_depth': [10, 20],\n",
        "#     'min_samples_split': [2, 5],\n",
        "#     'min_samples_leaf': [1, 2],\n",
        "#     'max_features': [6, 3]\n",
        "# }\n",
        "\n",
        "# Create a DecisionTreeRegressor\n",
        "\n",
        "# max_depth=[10, 20]\n",
        "# min_samples_split=[2, 5]\n",
        "# min_samples_leaf= [1, 2]\n",
        "# max_features= [6, 3]\n",
        "\n",
        "# for i in max_depth:\n",
        "#   for j in min_samples_split:\n",
        "#     for s in min_samples_leaf:\n",
        "#       for k in max_features:\n",
        "\n",
        "\n",
        "#         dt_regressor = DecisionTreeRegressor(max_depth = 40, min_samples_split= i, min_samples_leaf = 5, max_features = j)\n",
        "\n",
        "# # Instantiate GridSearchCV\n",
        "# #grid_search = GridSearchCV(estimator=dt_regressor, param_grid=param_grid, scoring='neg_mean_squared_error', cv=5, n_jobs=-1)\n",
        "\n",
        "# # Fit GridSearchCV\n",
        "#         dtr=dt_regressor.fit(X_train, y_train)\n",
        "#         dtr_val_pred=dtr.predict(X_val)\n",
        "\n",
        "#         mse_value = mse(y_val, dtr_val_pred)\n",
        "#         mae_value=mae(y_val, dtr_val_pred)\n",
        "\n",
        "#         list_mse[mse_value]=[i,j,s,k]\n",
        "#         list_mae[mae_value]=[i,j,s,k]\n",
        "\n",
        "\n",
        "\n",
        "\n",
        "#         print(\"Decision Tree Regression mean squared error: \", min(list_mse))\n",
        "#         print(\"Decision Tree Regression mean absolute error: \", min(list_mae))\n",
        "#         print(\"for the parameters of\", i, j, s, k, \"\\n\")\n",
        "\n",
        "# Print the results\n",
        "#print(\"Best parameters found: \", grid_search.best_params_)\n",
        "#print(\"Lowest error found: \", -grid_search.best_score_)\n",
        "\n",
        "# Print the results table\n",
        "#results_df = pd.DataFrame(grid_search.cv_results_)\n",
        "#print(results_df[['params', 'mean_test_score']])\n"
      ],
      "metadata": {
        "id": "FQCnz_UZR67F"
      },
      "execution_count": 20,
      "outputs": []
    },
    {
      "cell_type": "markdown",
      "source": [
        "##performing gridsearch to find least error and best parameters\n"
      ],
      "metadata": {
        "id": "xJmdZ7dHc-q7"
      }
    },
    {
      "cell_type": "code",
      "source": [
        "# #Define the parameter grid\n",
        "# from sklearn.model_selection import GridSearchCV\n",
        "# from sklearn.tree import DecisionTreeRegressor\n",
        "# from sklearn.metrics import mean_squared_error as mse\n",
        "# from sklearn.metrics import mean_absolute_error as mae\n",
        "\n",
        "\n",
        "# param_grid = {\n",
        "#     'criterion': ['absolute_error'],\n",
        "#     'max_depth': [10, 20],\n",
        "#     'min_samples_split': [2, 5],\n",
        "#     'min_samples_leaf': [1, 2],\n",
        "#     'max_features': [6, 3]\n",
        "# }\n",
        "\n",
        "# dtr = GridSearchCV(DecisionTreeRegressor(), param_grid, scoring='neg_mean_squared_error', cv=5, n_jobs=-1)\n",
        "\n",
        "# dtr.fit(X_train, y_train)\n",
        "# print(\"Best parameters found: \", grid_search.best_params_)\n",
        "# print(\"Lowest error found: \", -grid_search.best_score_)\n",
        "\n",
        "\n"
      ],
      "metadata": {
        "id": "pe8r1FkWc-S6"
      },
      "execution_count": 21,
      "outputs": []
    },
    {
      "cell_type": "markdown",
      "source": [
        "Store in dictionary logic incase we decide to use for loops"
      ],
      "metadata": {
        "id": "KV27Fe-JVTJn"
      }
    },
    {
      "cell_type": "code",
      "source": [
        "dic1={}\n",
        "dic2={}\n",
        "mae=4\n",
        "mae2=3\n",
        "i=4\n",
        "k=5\n",
        "l=6\n",
        "m=3\n",
        "\n",
        "dic1[mae]=[i,k]\n",
        "dic1[mae2]=[l,m]\n",
        "val=min(dic1.keys())\n",
        "\n",
        "print(dic1[val])"
      ],
      "metadata": {
        "id": "Zn6pZfPMRYuQ",
        "outputId": "37b74ded-028f-4337-82b2-69ca6fc6b125",
        "colab": {
          "base_uri": "https://localhost:8080/"
        }
      },
      "execution_count": 22,
      "outputs": [
        {
          "output_type": "stream",
          "name": "stdout",
          "text": [
            "[6, 3]\n"
          ]
        }
      ]
    },
    {
      "cell_type": "markdown",
      "source": [
        "#Performing grid search for Decision tree regressor\n",
        "\n",
        "---\n",
        "\n"
      ],
      "metadata": {
        "id": "VEmbTZ8aTv29"
      }
    },
    {
      "cell_type": "code",
      "source": [
        "from sklearn.model_selection import GridSearchCV\n",
        "from sklearn.tree import DecisionTreeRegressor\n",
        "from sklearn.ensemble import RandomForestRegressor\n",
        "from sklearn.linear_model import LinearRegression\n",
        "from sklearn.metrics import mean_squared_error as mse\n",
        "from sklearn.metrics import mean_absolute_error as mae\n",
        "\n",
        "def perform_grid_search(model_class, param_grid, scoring, X_train, y_train, X_val, y_val):\n",
        "    # Create an instance of the model\n",
        "    model = model_class()\n",
        "\n",
        "    # Instantiate GridSearchCV with the specified scoring parameter\n",
        "    grid_search = GridSearchCV(estimator=model, param_grid=param_grid, scoring=scoring, cv=5, n_jobs=-1)\n",
        "\n",
        "    # Fit GridSearchCV\n",
        "    grid_search.fit(X_train, y_train)\n",
        "\n",
        "    # Print the best parameters and the corresponding error values\n",
        "    print(f\"Best parameters found for {model_class.__name__} with scoring '{scoring}': \", grid_search.best_params_)\n",
        "    print(f\"Best score found for {model_class.__name__} with scoring '{scoring}': \", -grid_search.best_score_) # Since 'neg_mean_absolute_error' is used, we negate the score to get the MAE\n",
        "    print(f\"MAE on validation set for {model_class.__name__} : \", mae(y_val, grid_search.predict(X_val)))\n",
        "    print(f\"MSE on validation set for {model_class.__name__} : \", mse(y_val, grid_search.predict(X_val)))\n",
        "    print(\"\\n\")\n",
        "\n",
        "\n",
        "    print(f\"MAE on test set for {model_class.__name__} : \", mae(y_val, grid_search.predict(X_test)))\n",
        "    print(f\"MSE on test set for {model_class.__name__} : \", mse(y_val, grid_search.predict(X_test)))\n",
        "\n",
        "# Assuming X_train, y_train, X_val, y_val are your training and validation data\n",
        "\n",
        "# Define the parameter grid for each model\n",
        "param_grid_dt = {\n",
        "    'max_depth': [10, 20, 80],\n",
        "    'min_samples_split': [2, 5, 10],\n",
        "    'min_samples_leaf': [1, 2, 5],\n",
        "    'max_features': [6, 3, 7]\n",
        "}\n",
        "\n",
        "# param_grid_rf = {\n",
        "#     'n_estimators': [10, 50, 100],\n",
        "#     'max_depth': [None, 10, 20],\n",
        "#     'min_samples_split': [2, 5],\n",
        "#     'min_samples_leaf': [1, 2],\n",
        "#     'max_features': [6, 3]\n",
        "# }\n",
        "\n",
        "# param_grid_lr = {\n",
        "#     'fit_intercept': [True],\n",
        "#     'n_jobs' : [1,3,10,100,200]\n",
        "# }\n",
        "\n",
        "# Perform grid search for each model with 'neg_mean_absolute_error' as the scoring parameter\n",
        "perform_grid_search(DecisionTreeRegressor, param_grid_dt, 'neg_mean_absolute_error', X_train, y_train, X_val, y_val)\n",
        "#perform_grid_search(RandomForestRegressor, param_grid_rf, 'neg_mean_absolute_error', X_train, y_train, X_val, y_val)\n",
        "#perform_grid_search(LinearRegression, param_grid_lr, 'neg_mean_absolute_error', X_train, y_train, X_val, y_val)\n",
        "\n",
        "# Perform grid search for each model with 'neg_mean_squared_error' as the scoring parameter\n",
        "perform_grid_search(DecisionTreeRegressor, param_grid_dt, 'neg_mean_squared_error', X_train, y_train, X_val, y_val)\n",
        "#perform_grid_search(RandomForestRegressor, param_grid_rf, 'neg_mean_squared_error', X_train, y_train, X_val, y_val)\n",
        "#perform_grid_search(LinearRegression, param_grid_lr, 'neg_mean_squared_error', X_train, y_train, X_val, y_val)\n"
      ],
      "metadata": {
        "id": "9kFRFGkxq_rO"
      },
      "execution_count": null,
      "outputs": []
    },
    {
      "cell_type": "markdown",
      "source": [
        "#Changing parameters manually (if required)"
      ],
      "metadata": {
        "id": "1n5Sd13PQsVj"
      }
    },
    {
      "cell_type": "code",
      "source": [
        "dtr = DecisionTreeRegressor(max_depth = 40, min_samples_split= 4, min_samples_leaf = 5, max_features = 6)\n",
        "svr = SVR(kernel = 'poly', C = 2, degree = 3)\n",
        "lin = LinearRegression(n_jobs=200, fit_intercept = True)\n",
        "\n",
        "dtr_model = dtr.fit(X_train, y_train)\n",
        "svr_model = svr.fit(X_train, y_train)\n",
        "lin_model = lin.fit(X_train, y_train)"
      ],
      "metadata": {
        "id": "lKWYm_PLQiwD"
      },
      "execution_count": null,
      "outputs": []
    },
    {
      "cell_type": "code",
      "source": [
        "dtr_val_pred = dtr.predict(X_val)\n",
        "svr_val_pred = svr.predict(X_val)\n",
        "lin_val_pred = lin.predict(X_val)\n",
        "\n",
        "print(\"Decision Tree Regression mean squared error: \", mse(y_val, dtr_val_pred))\n",
        "print(\"Support Vector Regression mean squared error: \", mse(y_val, svr_val_pred))\n",
        "print(\"Linear Regression mean squared error: \", mse(y_val, lin_val_pred))"
      ],
      "metadata": {
        "id": "g0Dstbf9Tsbo"
      },
      "execution_count": null,
      "outputs": []
    },
    {
      "cell_type": "code",
      "source": [
        "dtr_val_pred = dtr.predict(X_test)\n",
        "svr_val_pred = svr.predict(X_test)\n",
        "lin_val_pred = lin.predict(X_test)\n",
        "\n",
        "print(\"Decision Tree Regression mean squared error: \", mse(y_test, dtr_val_pred))\n",
        "print(\"Support Vector Regression mean squared error: \", mse(y_test, svr_val_pred))\n",
        "print(\"Linear Regression mean squared error: \", mse(y_test, lin_val_pred))"
      ],
      "metadata": {
        "id": "GuLtqouQThj9"
      },
      "execution_count": null,
      "outputs": []
    }
  ]
}