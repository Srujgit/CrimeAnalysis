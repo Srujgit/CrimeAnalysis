{
  "nbformat": 4,
  "nbformat_minor": 0,
  "metadata": {
    "colab": {
      "provenance": [],
      "authorship_tag": "ABX9TyOSTpb8tQZHQ0Hfsdydad3b",
      "include_colab_link": true
    },
    "kernelspec": {
      "name": "python3",
      "display_name": "Python 3"
    },
    "language_info": {
      "name": "python"
    }
  },
  "cells": [
    {
      "cell_type": "markdown",
      "metadata": {
        "id": "view-in-github",
        "colab_type": "text"
      },
      "source": [
        "<a href=\"https://colab.research.google.com/github/Srujgit/CrimeAnalysis/blob/main/CrimeAnalysis_ML.ipynb\" target=\"_parent\"><img src=\"https://colab.research.google.com/assets/colab-badge.svg\" alt=\"Open In Colab\"/></a>"
      ]
    },
    {
      "cell_type": "markdown",
      "source": [
        "This project aims to analyse crime in 3 cities in the USA. Namely, Boston, Denver and Philadelphia.\n",
        "\n",
        "The end goal is to be able to predict the next crime (essentially a regression model).\n",
        "\n",
        "A possible application could be for real estate agencies to help in the pricing of properties."
      ],
      "metadata": {
        "id": "jBrHJkKFr4qQ"
      }
    },
    {
      "cell_type": "code",
      "execution_count": null,
      "metadata": {
        "id": "qNnzYSeJrnVA"
      },
      "outputs": [],
      "source": []
    }
  ]
}