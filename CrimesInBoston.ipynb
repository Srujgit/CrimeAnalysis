{
  "nbformat": 4,
  "nbformat_minor": 0,
  "metadata": {
    "colab": {
      "provenance": [],
      "authorship_tag": "ABX9TyPEvxui+x8E61zS6HXSRiiK",
      "include_colab_link": true
    },
    "kernelspec": {
      "name": "python3",
      "display_name": "Python 3"
    },
    "language_info": {
      "name": "python"
    }
  },
  "cells": [
    {
      "cell_type": "markdown",
      "metadata": {
        "id": "view-in-github",
        "colab_type": "text"
      },
      "source": [
        "<a href=\"https://colab.research.google.com/github/Srujgit/CrimeAnalysis/blob/main/CrimesInBoston.ipynb\" target=\"_parent\"><img src=\"https://colab.research.google.com/assets/colab-badge.svg\" alt=\"Open In Colab\"/></a>"
      ]
    },
    {
      "cell_type": "markdown",
      "source": [
        "#Crimes in Boston\n",
        "\n",
        "This project aims to analyse crimes in Boston.\n",
        "\n",
        "Source: https://www.kaggle.com/datasets/AnalyzeBoston/crimes-in-boston"
      ],
      "metadata": {
        "id": "eMl2aSCTwI8u"
      }
    },
    {
      "cell_type": "code",
      "source": [
        "### Importing basic libraries\n",
        "\n",
        "import numpy as np\n",
        "import pandas as pd\n",
        "import matplotlib.pyplot as plt\n",
        "import seaborn as sns\n",
        "%matplotlib inline"
      ],
      "metadata": {
        "id": "E92qFK7GweCq"
      },
      "execution_count": 1,
      "outputs": []
    },
    {
      "cell_type": "code",
      "source": [],
      "metadata": {
        "id": "QwCdNtD1wyAM"
      },
      "execution_count": null,
      "outputs": []
    }
  ]
}