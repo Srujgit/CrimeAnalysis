{
  "nbformat": 4,
  "nbformat_minor": 0,
  "metadata": {
    "colab": {
      "provenance": [],
      "mount_file_id": "https://gist.github.com/spewtea/2f55fe9b657063aae5925b1766120bbe#file-denvercrimedata-ipynb",
      "authorship_tag": "ABX9TyNrU897406Rh2p715QyFm+v",
      "include_colab_link": true
    },
    "kernelspec": {
      "name": "python3",
      "display_name": "Python 3"
    },
    "language_info": {
      "name": "python"
    }
  },
  "cells": [
    {
      "cell_type": "markdown",
      "metadata": {
        "id": "view-in-github",
        "colab_type": "text"
      },
      "source": [
        "<a href=\"https://colab.research.google.com/github/Srujgit/CrimeAnalysis/blob/main/denvercrimedata.ipynb\" target=\"_parent\"><img src=\"https://colab.research.google.com/assets/colab-badge.svg\" alt=\"Open In Colab\"/></a>"
      ]
    },
    {
      "cell_type": "code",
      "execution_count": 65,
      "metadata": {
        "id": "jdDfVpx3upAM"
      },
      "outputs": [],
      "source": [
        "import numpy as np\n",
        "import matplotlib\n",
        "import pandas as pd\n",
        "\n"
      ]
    },
    {
      "cell_type": "code",
      "source": [
        "import pandas as pd\n",
        "#!file -bi crime_denver.csv\n",
        "filepath=\"/content/drive/MyDrive/CrimeAnalysis/DenverCrimeData/crime.csv\"\n",
        "\n",
        "df = pd.read_csv(filepath, encoding='ISO-8859-1')\n",
        "\n",
        "\n",
        "# Print the DataFrame\n",
        "print(df.head())\n"
      ],
      "metadata": {
        "id": "t9OmNy0KREAB",
        "outputId": "f7cd43e0-0ba0-4800-e6ec-67e05a8458a9",
        "colab": {
          "base_uri": "https://localhost:8080/"
        }
      },
      "execution_count": 66,
      "outputs": [
        {
          "output_type": "stream",
          "name": "stdout",
          "text": [
            "   incident_id        offense_id  offense_code  offense_code_extension  \\\n",
            "0    202268791   202268791299900          2999                       0   \n",
            "1   2021387586  2021387586299900          2999                       0   \n",
            "2   2020641486  2020641486299900          2999                       0   \n",
            "3   2018612468  2018612468299900          2999                       0   \n",
            "4   2020293614  2020293614299900          2999                       0   \n",
            "\n",
            "           offense_type_id offense_category_id  first_occurrence_date  \\\n",
            "0  criminal-mischief-other     public-disorder   2/10/2022 2:50:00 AM   \n",
            "1  criminal-mischief-other     public-disorder    7/7/2021 9:02:00 PM   \n",
            "2  criminal-mischief-other     public-disorder  10/29/2020 1:30:00 AM   \n",
            "3  criminal-mischief-other     public-disorder    9/6/2018 5:00:00 PM   \n",
            "4  criminal-mischief-other     public-disorder    5/8/2020 5:00:00 AM   \n",
            "\n",
            "   last_occurrence_date          reported_date     incident_address  \\\n",
            "0                   NaN   2/10/2022 3:16:00 AM   1107 N SANTA FE DR   \n",
            "1                   NaN   7/8/2021 12:55:00 AM          815 16TH ST   \n",
            "2                   NaN  10/29/2020 4:31:00 AM  4745 N FEDERAL BLVD   \n",
            "3  9/6/2018 11:00:00 PM    9/7/2018 9:58:00 AM    65 S FEDERAL BLVD   \n",
            "4   5/8/2020 6:30:00 PM  5/13/2020 10:00:00 AM   12295 E ALBROOK DR   \n",
            "\n",
            "       geo_x      geo_y     geo_lon    geo_lat district_id  precinct_id  \\\n",
            "0  3140929.0  1692612.0 -104.998910  39.733957           1          123   \n",
            "1  3142470.0  1697098.0 -104.993342  39.746248           6          611   \n",
            "2  3133352.0  1710396.0 -105.025520  39.782888           1          111   \n",
            "3  3133534.0  1685797.0 -105.025330  39.715357           4          411   \n",
            "4  3184065.0  1710782.0 -104.845074  39.783082           5          521   \n",
            "\n",
            "  neighborhood_id  is_crime  is_traffic  victim_count  \n",
            "0    lincoln-park         1           0             1  \n",
            "1             cbd         1           0             1  \n",
            "2        berkeley         1           0             1  \n",
            "3          barnum         1           0             1  \n",
            "4       montbello         1           0             1  \n"
          ]
        }
      ]
    },
    {
      "cell_type": "code",
      "source": [
        "column_names = df.columns.tolist()\n",
        "print(column_names)"
      ],
      "metadata": {
        "colab": {
          "base_uri": "https://localhost:8080/"
        },
        "id": "wGAdmWCkPD8b",
        "outputId": "3690bdc7-4339-4916-d480-1cb3a5287a3f"
      },
      "execution_count": 67,
      "outputs": [
        {
          "output_type": "stream",
          "name": "stdout",
          "text": [
            "['incident_id', 'offense_id', 'offense_code', 'offense_code_extension', 'offense_type_id', 'offense_category_id', 'first_occurrence_date', 'last_occurrence_date', 'reported_date', 'incident_address', 'geo_x', 'geo_y', 'geo_lon', 'geo_lat', 'district_id', 'precinct_id', 'neighborhood_id', 'is_crime', 'is_traffic', 'victim_count']\n"
          ]
        }
      ]
    },
    {
      "cell_type": "markdown",
      "source": [
        "columns_to_drop = ['offense_code','offense_type_id', 'offense_category_id', 'first_occurrence_date', 'last_occurrence_date', 'reported_date', 'geo_x', 'geo_y', 'district_id', 'is_traffic', 'victim_count']  # List of column names to drop\n",
        "df = df.drop(columns_to_drop,  axis=1)"
      ],
      "metadata": {
        "id": "iBA_gQNGPPi3"
      }
    },
    {
      "cell_type": "code",
      "source": [
        "# Assuming df is your DataFrame\n",
        "print(df.columns)\n",
        "#columns_to_drop = ['incident_id','offense_code']  # List of column names to drop\n",
        "df = df.drop(['offense_type_id', 'offense_category_id','first_occurrence_date','last_occurrence_date', 'reported_date', 'incident_address', 'geo_x', 'geo_y', 'is_crime'], axis=1)\n"
      ],
      "metadata": {
        "colab": {
          "base_uri": "https://localhost:8080/"
        },
        "id": "dCkRSQv9OJwB",
        "outputId": "87f41189-58c3-4d9f-dbe5-3e4d8517133d"
      },
      "execution_count": 68,
      "outputs": [
        {
          "output_type": "stream",
          "name": "stdout",
          "text": [
            "Index(['incident_id', 'offense_id', 'offense_code', 'offense_code_extension',\n",
            "       'offense_type_id', 'offense_category_id', 'first_occurrence_date',\n",
            "       'last_occurrence_date', 'reported_date', 'incident_address', 'geo_x',\n",
            "       'geo_y', 'geo_lon', 'geo_lat', 'district_id', 'precinct_id',\n",
            "       'neighborhood_id', 'is_crime', 'is_traffic', 'victim_count'],\n",
            "      dtype='object')\n"
          ]
        }
      ]
    },
    {
      "cell_type": "code",
      "source": [
        "fin_column_names= df.columns.tolist()"
      ],
      "metadata": {
        "id": "hrT5hIiihA2D"
      },
      "execution_count": 69,
      "outputs": []
    },
    {
      "cell_type": "code",
      "source": [
        "print(df.head())"
      ],
      "metadata": {
        "id": "37CqERoVcWY6",
        "outputId": "33f4c81c-f2d8-47a2-96ad-525163aaab5c",
        "colab": {
          "base_uri": "https://localhost:8080/"
        }
      },
      "execution_count": 70,
      "outputs": [
        {
          "output_type": "stream",
          "name": "stdout",
          "text": [
            "   incident_id        offense_id  offense_code  offense_code_extension  \\\n",
            "0    202268791   202268791299900          2999                       0   \n",
            "1   2021387586  2021387586299900          2999                       0   \n",
            "2   2020641486  2020641486299900          2999                       0   \n",
            "3   2018612468  2018612468299900          2999                       0   \n",
            "4   2020293614  2020293614299900          2999                       0   \n",
            "\n",
            "      geo_lon    geo_lat district_id  precinct_id neighborhood_id  is_traffic  \\\n",
            "0 -104.998910  39.733957           1          123    lincoln-park           0   \n",
            "1 -104.993342  39.746248           6          611             cbd           0   \n",
            "2 -105.025520  39.782888           1          111        berkeley           0   \n",
            "3 -105.025330  39.715357           4          411          barnum           0   \n",
            "4 -104.845074  39.783082           5          521       montbello           0   \n",
            "\n",
            "   victim_count  \n",
            "0             1  \n",
            "1             1  \n",
            "2             1  \n",
            "3             1  \n",
            "4             1  \n"
          ]
        }
      ]
    },
    {
      "cell_type": "code",
      "source": [
        "# Assuming df is your DataFrame and 'column_name' is the name of the column\n",
        "unique_values = df['neighborhood_id'].unique()\n",
        "print(len(unique_values))\n"
      ],
      "metadata": {
        "id": "Q3w2RcXEd7Rb",
        "outputId": "9cdde006-3c46-415c-cf46-a91ad2ec8e2c",
        "colab": {
          "base_uri": "https://localhost:8080/"
        }
      },
      "execution_count": 71,
      "outputs": [
        {
          "output_type": "stream",
          "name": "stdout",
          "text": [
            "79\n"
          ]
        }
      ]
    },
    {
      "cell_type": "markdown",
      "source": [
        "It can be seen that neighborhood_id has 79 unique values. In the next step we will be encoding it to numeric values"
      ],
      "metadata": {
        "id": "V9y1kC3WiVYU"
      }
    },
    {
      "cell_type": "code",
      "source": [
        "from sklearn.preprocessing import LabelEncoder\n",
        "\n",
        "# Assuming df is your DataFrame and 'column_name' is the name of the column\n",
        "label_encoder = LabelEncoder()\n",
        "encoded_values = label_encoder.fit_transform(df['neighborhood_id'])\n",
        "\n",
        "encoded_df = pd.DataFrame({\n",
        "    'Original': df['neighborhood_id'],\n",
        "    'Encoded': encoded_values\n",
        "})\n",
        "\n",
        "# Drop duplicate rows to avoid repeating entries for the same string\n",
        "encoded_df.drop_duplicates(inplace=True)\n",
        "\n",
        "# Sort the DataFrame by the encoded values for better readability\n",
        "encoded_df.sort_values(by='Encoded', inplace=True)\n",
        "\n",
        "# Display the DataFrame\n",
        "print(encoded_df)\n"
      ],
      "metadata": {
        "id": "ZRRgxHwnfR3F",
        "outputId": "ca05c642-6f64-4994-ab64-5e7e7b252a84",
        "colab": {
          "base_uri": "https://localhost:8080/"
        }
      },
      "execution_count": 72,
      "outputs": [
        {
          "output_type": "stream",
          "name": "stdout",
          "text": [
            "           Original  Encoded\n",
            "18      athmar-park        0\n",
            "324         auraria        1\n",
            "40            baker        2\n",
            "3            barnum        3\n",
            "10      barnum-west        4\n",
            "...             ...      ...\n",
            "52    west-highland       74\n",
            "33         westwood       75\n",
            "9          whittier       76\n",
            "351         windsor       77\n",
            "1296            NaN       78\n",
            "\n",
            "[79 rows x 2 columns]\n"
          ]
        }
      ]
    },
    {
      "cell_type": "code",
      "source": [
        "df['neighborhood_id'] = encoded_values\n",
        "df.head()"
      ],
      "metadata": {
        "id": "nDM8UN4Sfcul",
        "outputId": "3fe4831a-d570-4991-e4d8-b166adf24573",
        "colab": {
          "base_uri": "https://localhost:8080/",
          "height": 226
        }
      },
      "execution_count": 74,
      "outputs": [
        {
          "output_type": "execute_result",
          "data": {
            "text/plain": [
              "   incident_id        offense_id  offense_code  offense_code_extension  \\\n",
              "0    202268791   202268791299900          2999                       0   \n",
              "1   2021387586  2021387586299900          2999                       0   \n",
              "2   2020641486  2020641486299900          2999                       0   \n",
              "3   2018612468  2018612468299900          2999                       0   \n",
              "4   2020293614  2020293614299900          2999                       0   \n",
              "\n",
              "      geo_lon    geo_lat district_id  precinct_id  neighborhood_id  \\\n",
              "0 -104.998910  39.733957           1          123               41   \n",
              "1 -104.993342  39.746248           6          611                9   \n",
              "2 -105.025520  39.782888           1          111                7   \n",
              "3 -105.025330  39.715357           4          411                3   \n",
              "4 -104.845074  39.783082           5          521               45   \n",
              "\n",
              "   is_traffic  victim_count  \n",
              "0           0             1  \n",
              "1           0             1  \n",
              "2           0             1  \n",
              "3           0             1  \n",
              "4           0             1  "
            ],
            "text/html": [
              "\n",
              "  <div id=\"df-aec40d38-2c92-4f53-9c62-29c842fdcf5c\" class=\"colab-df-container\">\n",
              "    <div>\n",
              "<style scoped>\n",
              "    .dataframe tbody tr th:only-of-type {\n",
              "        vertical-align: middle;\n",
              "    }\n",
              "\n",
              "    .dataframe tbody tr th {\n",
              "        vertical-align: top;\n",
              "    }\n",
              "\n",
              "    .dataframe thead th {\n",
              "        text-align: right;\n",
              "    }\n",
              "</style>\n",
              "<table border=\"1\" class=\"dataframe\">\n",
              "  <thead>\n",
              "    <tr style=\"text-align: right;\">\n",
              "      <th></th>\n",
              "      <th>incident_id</th>\n",
              "      <th>offense_id</th>\n",
              "      <th>offense_code</th>\n",
              "      <th>offense_code_extension</th>\n",
              "      <th>geo_lon</th>\n",
              "      <th>geo_lat</th>\n",
              "      <th>district_id</th>\n",
              "      <th>precinct_id</th>\n",
              "      <th>neighborhood_id</th>\n",
              "      <th>is_traffic</th>\n",
              "      <th>victim_count</th>\n",
              "    </tr>\n",
              "  </thead>\n",
              "  <tbody>\n",
              "    <tr>\n",
              "      <th>0</th>\n",
              "      <td>202268791</td>\n",
              "      <td>202268791299900</td>\n",
              "      <td>2999</td>\n",
              "      <td>0</td>\n",
              "      <td>-104.998910</td>\n",
              "      <td>39.733957</td>\n",
              "      <td>1</td>\n",
              "      <td>123</td>\n",
              "      <td>41</td>\n",
              "      <td>0</td>\n",
              "      <td>1</td>\n",
              "    </tr>\n",
              "    <tr>\n",
              "      <th>1</th>\n",
              "      <td>2021387586</td>\n",
              "      <td>2021387586299900</td>\n",
              "      <td>2999</td>\n",
              "      <td>0</td>\n",
              "      <td>-104.993342</td>\n",
              "      <td>39.746248</td>\n",
              "      <td>6</td>\n",
              "      <td>611</td>\n",
              "      <td>9</td>\n",
              "      <td>0</td>\n",
              "      <td>1</td>\n",
              "    </tr>\n",
              "    <tr>\n",
              "      <th>2</th>\n",
              "      <td>2020641486</td>\n",
              "      <td>2020641486299900</td>\n",
              "      <td>2999</td>\n",
              "      <td>0</td>\n",
              "      <td>-105.025520</td>\n",
              "      <td>39.782888</td>\n",
              "      <td>1</td>\n",
              "      <td>111</td>\n",
              "      <td>7</td>\n",
              "      <td>0</td>\n",
              "      <td>1</td>\n",
              "    </tr>\n",
              "    <tr>\n",
              "      <th>3</th>\n",
              "      <td>2018612468</td>\n",
              "      <td>2018612468299900</td>\n",
              "      <td>2999</td>\n",
              "      <td>0</td>\n",
              "      <td>-105.025330</td>\n",
              "      <td>39.715357</td>\n",
              "      <td>4</td>\n",
              "      <td>411</td>\n",
              "      <td>3</td>\n",
              "      <td>0</td>\n",
              "      <td>1</td>\n",
              "    </tr>\n",
              "    <tr>\n",
              "      <th>4</th>\n",
              "      <td>2020293614</td>\n",
              "      <td>2020293614299900</td>\n",
              "      <td>2999</td>\n",
              "      <td>0</td>\n",
              "      <td>-104.845074</td>\n",
              "      <td>39.783082</td>\n",
              "      <td>5</td>\n",
              "      <td>521</td>\n",
              "      <td>45</td>\n",
              "      <td>0</td>\n",
              "      <td>1</td>\n",
              "    </tr>\n",
              "  </tbody>\n",
              "</table>\n",
              "</div>\n",
              "    <div class=\"colab-df-buttons\">\n",
              "\n",
              "  <div class=\"colab-df-container\">\n",
              "    <button class=\"colab-df-convert\" onclick=\"convertToInteractive('df-aec40d38-2c92-4f53-9c62-29c842fdcf5c')\"\n",
              "            title=\"Convert this dataframe to an interactive table.\"\n",
              "            style=\"display:none;\">\n",
              "\n",
              "  <svg xmlns=\"http://www.w3.org/2000/svg\" height=\"24px\" viewBox=\"0 -960 960 960\">\n",
              "    <path d=\"M120-120v-720h720v720H120Zm60-500h600v-160H180v160Zm220 220h160v-160H400v160Zm0 220h160v-160H400v160ZM180-400h160v-160H180v160Zm440 0h160v-160H620v160ZM180-180h160v-160H180v160Zm440 0h160v-160H620v160Z\"/>\n",
              "  </svg>\n",
              "    </button>\n",
              "\n",
              "  <style>\n",
              "    .colab-df-container {\n",
              "      display:flex;\n",
              "      gap: 12px;\n",
              "    }\n",
              "\n",
              "    .colab-df-convert {\n",
              "      background-color: #E8F0FE;\n",
              "      border: none;\n",
              "      border-radius: 50%;\n",
              "      cursor: pointer;\n",
              "      display: none;\n",
              "      fill: #1967D2;\n",
              "      height: 32px;\n",
              "      padding: 0 0 0 0;\n",
              "      width: 32px;\n",
              "    }\n",
              "\n",
              "    .colab-df-convert:hover {\n",
              "      background-color: #E2EBFA;\n",
              "      box-shadow: 0px 1px 2px rgba(60, 64, 67, 0.3), 0px 1px 3px 1px rgba(60, 64, 67, 0.15);\n",
              "      fill: #174EA6;\n",
              "    }\n",
              "\n",
              "    .colab-df-buttons div {\n",
              "      margin-bottom: 4px;\n",
              "    }\n",
              "\n",
              "    [theme=dark] .colab-df-convert {\n",
              "      background-color: #3B4455;\n",
              "      fill: #D2E3FC;\n",
              "    }\n",
              "\n",
              "    [theme=dark] .colab-df-convert:hover {\n",
              "      background-color: #434B5C;\n",
              "      box-shadow: 0px 1px 3px 1px rgba(0, 0, 0, 0.15);\n",
              "      filter: drop-shadow(0px 1px 2px rgba(0, 0, 0, 0.3));\n",
              "      fill: #FFFFFF;\n",
              "    }\n",
              "  </style>\n",
              "\n",
              "    <script>\n",
              "      const buttonEl =\n",
              "        document.querySelector('#df-aec40d38-2c92-4f53-9c62-29c842fdcf5c button.colab-df-convert');\n",
              "      buttonEl.style.display =\n",
              "        google.colab.kernel.accessAllowed ? 'block' : 'none';\n",
              "\n",
              "      async function convertToInteractive(key) {\n",
              "        const element = document.querySelector('#df-aec40d38-2c92-4f53-9c62-29c842fdcf5c');\n",
              "        const dataTable =\n",
              "          await google.colab.kernel.invokeFunction('convertToInteractive',\n",
              "                                                    [key], {});\n",
              "        if (!dataTable) return;\n",
              "\n",
              "        const docLinkHtml = 'Like what you see? Visit the ' +\n",
              "          '<a target=\"_blank\" href=https://colab.research.google.com/notebooks/data_table.ipynb>data table notebook</a>'\n",
              "          + ' to learn more about interactive tables.';\n",
              "        element.innerHTML = '';\n",
              "        dataTable['output_type'] = 'display_data';\n",
              "        await google.colab.output.renderOutput(dataTable, element);\n",
              "        const docLink = document.createElement('div');\n",
              "        docLink.innerHTML = docLinkHtml;\n",
              "        element.appendChild(docLink);\n",
              "      }\n",
              "    </script>\n",
              "  </div>\n",
              "\n",
              "\n",
              "<div id=\"df-b7eb8edd-8849-491e-b5b7-05774329b875\">\n",
              "  <button class=\"colab-df-quickchart\" onclick=\"quickchart('df-b7eb8edd-8849-491e-b5b7-05774329b875')\"\n",
              "            title=\"Suggest charts\"\n",
              "            style=\"display:none;\">\n",
              "\n",
              "<svg xmlns=\"http://www.w3.org/2000/svg\" height=\"24px\"viewBox=\"0 0 24 24\"\n",
              "     width=\"24px\">\n",
              "    <g>\n",
              "        <path d=\"M19 3H5c-1.1 0-2 .9-2 2v14c0 1.1.9 2 2 2h14c1.1 0 2-.9 2-2V5c0-1.1-.9-2-2-2zM9 17H7v-7h2v7zm4 0h-2V7h2v10zm4 0h-2v-4h2v4z\"/>\n",
              "    </g>\n",
              "</svg>\n",
              "  </button>\n",
              "\n",
              "<style>\n",
              "  .colab-df-quickchart {\n",
              "      --bg-color: #E8F0FE;\n",
              "      --fill-color: #1967D2;\n",
              "      --hover-bg-color: #E2EBFA;\n",
              "      --hover-fill-color: #174EA6;\n",
              "      --disabled-fill-color: #AAA;\n",
              "      --disabled-bg-color: #DDD;\n",
              "  }\n",
              "\n",
              "  [theme=dark] .colab-df-quickchart {\n",
              "      --bg-color: #3B4455;\n",
              "      --fill-color: #D2E3FC;\n",
              "      --hover-bg-color: #434B5C;\n",
              "      --hover-fill-color: #FFFFFF;\n",
              "      --disabled-bg-color: #3B4455;\n",
              "      --disabled-fill-color: #666;\n",
              "  }\n",
              "\n",
              "  .colab-df-quickchart {\n",
              "    background-color: var(--bg-color);\n",
              "    border: none;\n",
              "    border-radius: 50%;\n",
              "    cursor: pointer;\n",
              "    display: none;\n",
              "    fill: var(--fill-color);\n",
              "    height: 32px;\n",
              "    padding: 0;\n",
              "    width: 32px;\n",
              "  }\n",
              "\n",
              "  .colab-df-quickchart:hover {\n",
              "    background-color: var(--hover-bg-color);\n",
              "    box-shadow: 0 1px 2px rgba(60, 64, 67, 0.3), 0 1px 3px 1px rgba(60, 64, 67, 0.15);\n",
              "    fill: var(--button-hover-fill-color);\n",
              "  }\n",
              "\n",
              "  .colab-df-quickchart-complete:disabled,\n",
              "  .colab-df-quickchart-complete:disabled:hover {\n",
              "    background-color: var(--disabled-bg-color);\n",
              "    fill: var(--disabled-fill-color);\n",
              "    box-shadow: none;\n",
              "  }\n",
              "\n",
              "  .colab-df-spinner {\n",
              "    border: 2px solid var(--fill-color);\n",
              "    border-color: transparent;\n",
              "    border-bottom-color: var(--fill-color);\n",
              "    animation:\n",
              "      spin 1s steps(1) infinite;\n",
              "  }\n",
              "\n",
              "  @keyframes spin {\n",
              "    0% {\n",
              "      border-color: transparent;\n",
              "      border-bottom-color: var(--fill-color);\n",
              "      border-left-color: var(--fill-color);\n",
              "    }\n",
              "    20% {\n",
              "      border-color: transparent;\n",
              "      border-left-color: var(--fill-color);\n",
              "      border-top-color: var(--fill-color);\n",
              "    }\n",
              "    30% {\n",
              "      border-color: transparent;\n",
              "      border-left-color: var(--fill-color);\n",
              "      border-top-color: var(--fill-color);\n",
              "      border-right-color: var(--fill-color);\n",
              "    }\n",
              "    40% {\n",
              "      border-color: transparent;\n",
              "      border-right-color: var(--fill-color);\n",
              "      border-top-color: var(--fill-color);\n",
              "    }\n",
              "    60% {\n",
              "      border-color: transparent;\n",
              "      border-right-color: var(--fill-color);\n",
              "    }\n",
              "    80% {\n",
              "      border-color: transparent;\n",
              "      border-right-color: var(--fill-color);\n",
              "      border-bottom-color: var(--fill-color);\n",
              "    }\n",
              "    90% {\n",
              "      border-color: transparent;\n",
              "      border-bottom-color: var(--fill-color);\n",
              "    }\n",
              "  }\n",
              "</style>\n",
              "\n",
              "  <script>\n",
              "    async function quickchart(key) {\n",
              "      const quickchartButtonEl =\n",
              "        document.querySelector('#' + key + ' button');\n",
              "      quickchartButtonEl.disabled = true;  // To prevent multiple clicks.\n",
              "      quickchartButtonEl.classList.add('colab-df-spinner');\n",
              "      try {\n",
              "        const charts = await google.colab.kernel.invokeFunction(\n",
              "            'suggestCharts', [key], {});\n",
              "      } catch (error) {\n",
              "        console.error('Error during call to suggestCharts:', error);\n",
              "      }\n",
              "      quickchartButtonEl.classList.remove('colab-df-spinner');\n",
              "      quickchartButtonEl.classList.add('colab-df-quickchart-complete');\n",
              "    }\n",
              "    (() => {\n",
              "      let quickchartButtonEl =\n",
              "        document.querySelector('#df-b7eb8edd-8849-491e-b5b7-05774329b875 button');\n",
              "      quickchartButtonEl.style.display =\n",
              "        google.colab.kernel.accessAllowed ? 'block' : 'none';\n",
              "    })();\n",
              "  </script>\n",
              "</div>\n",
              "\n",
              "    </div>\n",
              "  </div>\n"
            ],
            "application/vnd.google.colaboratory.intrinsic+json": {
              "type": "dataframe",
              "variable_name": "df"
            }
          },
          "metadata": {},
          "execution_count": 74
        }
      ]
    },
    {
      "cell_type": "code",
      "source": [
        "# Assuming df is your DataFrame and 'column_name' is the name of the column\n",
        "df.replace('', pd.NA, inplace=True)\n",
        "for i in fin_column_names:\n",
        "  num_nan_values = df[i].isna().sum()\n",
        "  if num_nan_values!=0:\n",
        "    print(i)\n",
        "    print(\"Number of NaN values in the column:\", num_nan_values)\n",
        "  else:\n",
        "    non_numeric_mask = pd.to_numeric(df[i], errors='coerce').isna()\n",
        "    non_numeric_rows = df[non_numeric_mask]\n",
        "    print(non_numeric_rows,i)\n",
        "\n"
      ],
      "metadata": {
        "id": "AIOYZJzsf_LF",
        "outputId": "4aff8d4f-c27b-4ef5-8fa6-ae8b6b80e411",
        "colab": {
          "base_uri": "https://localhost:8080/"
        }
      },
      "execution_count": 75,
      "outputs": [
        {
          "output_type": "stream",
          "name": "stdout",
          "text": [
            "Empty DataFrame\n",
            "Columns: [incident_id, offense_id, offense_code, offense_code_extension, geo_lon, geo_lat, district_id, precinct_id, neighborhood_id, is_traffic, victim_count]\n",
            "Index: [] incident_id\n",
            "Empty DataFrame\n",
            "Columns: [incident_id, offense_id, offense_code, offense_code_extension, geo_lon, geo_lat, district_id, precinct_id, neighborhood_id, is_traffic, victim_count]\n",
            "Index: [] offense_id\n",
            "Empty DataFrame\n",
            "Columns: [incident_id, offense_id, offense_code, offense_code_extension, geo_lon, geo_lat, district_id, precinct_id, neighborhood_id, is_traffic, victim_count]\n",
            "Index: [] offense_code\n",
            "Empty DataFrame\n",
            "Columns: [incident_id, offense_id, offense_code, offense_code_extension, geo_lon, geo_lat, district_id, precinct_id, neighborhood_id, is_traffic, victim_count]\n",
            "Index: [] offense_code_extension\n",
            "geo_lon\n",
            "Number of NaN values in the column: 15769\n",
            "geo_lat\n",
            "Number of NaN values in the column: 15769\n",
            "district_id\n",
            "Number of NaN values in the column: 57\n",
            "Empty DataFrame\n",
            "Columns: [incident_id, offense_id, offense_code, offense_code_extension, geo_lon, geo_lat, district_id, precinct_id, neighborhood_id, is_traffic, victim_count]\n",
            "Index: [] precinct_id\n",
            "Empty DataFrame\n",
            "Columns: [incident_id, offense_id, offense_code, offense_code_extension, geo_lon, geo_lat, district_id, precinct_id, neighborhood_id, is_traffic, victim_count]\n",
            "Index: [] neighborhood_id\n",
            "Empty DataFrame\n",
            "Columns: [incident_id, offense_id, offense_code, offense_code_extension, geo_lon, geo_lat, district_id, precinct_id, neighborhood_id, is_traffic, victim_count]\n",
            "Index: [] is_traffic\n",
            "Empty DataFrame\n",
            "Columns: [incident_id, offense_id, offense_code, offense_code_extension, geo_lon, geo_lat, district_id, precinct_id, neighborhood_id, is_traffic, victim_count]\n",
            "Index: [] victim_count\n"
          ]
        }
      ]
    },
    {
      "cell_type": "markdown",
      "source": [
        "It can be seen that geo_lon, geo_lat and district_id have multiple missing values\n"
      ],
      "metadata": {
        "id": "7mzhGhzmiHm-"
      }
    },
    {
      "cell_type": "code",
      "source": [
        "# Interpolate missing values\n",
        "df['geo_lon'] = df['geo_lon'].interpolate()\n",
        "df['geo_lat'] = df['geo_lat'].interpolate()\n",
        "\n",
        "#there are non-numeric values present\n",
        "df['district_id'] = pd.to_numeric(df['district_id'], errors='coerce')\n",
        "non_numeric_values = df[df['district_id'].isna()]\n",
        "\n",
        "df['district_id'] = df['district_id'].fillna(df['district_id'].median())\n",
        "\n",
        "\n",
        "print(df[\"geo_lon\"].isna().sum())\n",
        "print(df[\"geo_lat\"].isna().sum())\n",
        "print(df[\"district_id\"].isna().sum())\n"
      ],
      "metadata": {
        "id": "bwN0yqYaiRbw",
        "outputId": "974144f0-6bf7-4560-f6c5-e01411fe5a87",
        "colab": {
          "base_uri": "https://localhost:8080/"
        }
      },
      "execution_count": 47,
      "outputs": [
        {
          "output_type": "stream",
          "name": "stdout",
          "text": [
            "0\n",
            "0\n",
            "0\n"
          ]
        }
      ]
    }
  ]
}